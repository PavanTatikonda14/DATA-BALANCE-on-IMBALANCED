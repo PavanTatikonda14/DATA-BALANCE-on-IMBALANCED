{
 "cells": [
  {
   "cell_type": "markdown",
   "metadata": {},
   "source": [
    "### IMBalance to Balance\n",
    "\n",
    "observation in one class is higher than the observation in other classes then there exists a class imbalance.\n",
    "\n",
    "-Random under-sampling\n",
    "\n",
    "-Random over-sampling"
   ]
  },
  {
   "cell_type": "code",
   "execution_count": 2,
   "metadata": {},
   "outputs": [
    {
     "data": {
      "text/html": [
       "<style scoped>\n",
       "  .ansiout {\n",
       "    display: block;\n",
       "    unicode-bidi: embed;\n",
       "    white-space: pre-wrap;\n",
       "    word-wrap: break-word;\n",
       "    word-break: break-all;\n",
       "    font-family: \"Source Code Pro\", \"Menlo\", monospace;;\n",
       "    font-size: 13px;\n",
       "    color: #555;\n",
       "    margin-left: 4px;\n",
       "    line-height: 19px;\n",
       "  }\n",
       "</style>\n",
       "<div class=\"ansiout\">Out[1]: True</div>"
      ]
     },
     "metadata": {},
     "output_type": "display_data"
    }
   ],
   "source": [
    "dbutils.library.installPyPI(\"scikit-learn\", version=\"0.23.2\" )\n",
    "dbutils.library.installPyPI(\"imbalanced-learn\")"
   ]
  },
  {
   "cell_type": "code",
   "execution_count": 3,
   "metadata": {},
   "outputs": [
    {
     "data": {
      "text/html": [
       "<style scoped>\n",
       "  .ansiout {\n",
       "    display: block;\n",
       "    unicode-bidi: embed;\n",
       "    white-space: pre-wrap;\n",
       "    word-wrap: break-word;\n",
       "    word-break: break-all;\n",
       "    font-family: \"Source Code Pro\", \"Menlo\", monospace;;\n",
       "    font-size: 13px;\n",
       "    color: #555;\n",
       "    margin-left: 4px;\n",
       "    line-height: 19px;\n",
       "  }\n",
       "</style>\n",
       "<div class=\"ansiout\"></div>"
      ]
     },
     "metadata": {},
     "output_type": "display_data"
    }
   ],
   "source": [
    "import matplotlib.pyplot as plt\n",
    "import numpy as np\n",
    "import pandas as pd\n",
    "import seaborn as sns\n",
    "import warnings\n",
    "from imblearn.over_sampling import SMOTE\n",
    "from imblearn.pipeline import make_pipeline\n",
    "from pylab import rcParams\n",
    "from sklearn.linear_model import LogisticRegression\n",
    "from sklearn.metrics import accuracy_score\n",
    "from sklearn.metrics import precision_score, recall_score\n",
    "from sklearn.metrics import f1_score, roc_auc_score, roc_curve\n",
    "from sklearn.model_selection import train_test_split\n",
    "from sklearn.model_selection import GridSearchCV"
   ]
  },
  {
   "cell_type": "code",
   "execution_count": 4,
   "metadata": {},
   "outputs": [
    {
     "data": {
      "text/html": [
       "<style scoped>\n",
       "  .ansiout {\n",
       "    display: block;\n",
       "    unicode-bidi: embed;\n",
       "    white-space: pre-wrap;\n",
       "    word-wrap: break-word;\n",
       "    word-break: break-all;\n",
       "    font-family: \"Source Code Pro\", \"Menlo\", monospace;;\n",
       "    font-size: 13px;\n",
       "    color: #555;\n",
       "    margin-left: 4px;\n",
       "    line-height: 19px;\n",
       "  }\n",
       "</style>\n",
       "<div class=\"ansiout\"></div>"
      ]
     },
     "metadata": {},
     "output_type": "display_data"
    }
   ],
   "source": [
    "def generate_model_report(y_actual, y_predicted):\n",
    "    print(\"Accuracy = \" , accuracy_score(y_actual, y_predicted))\n",
    "    print(\"Precision = \" ,precision_score(y_actual, y_predicted))\n",
    "    print(\"Recall = \" ,recall_score(y_actual, y_predicted))\n",
    "    print(\"F1 Score = \" ,f1_score(y_actual, y_predicted))\n",
    "    pass"
   ]
  },
  {
   "cell_type": "code",
   "execution_count": 5,
   "metadata": {},
   "outputs": [
    {
     "data": {
      "text/html": [
       "<style scoped>\n",
       "  .ansiout {\n",
       "    display: block;\n",
       "    unicode-bidi: embed;\n",
       "    white-space: pre-wrap;\n",
       "    word-wrap: break-word;\n",
       "    word-break: break-all;\n",
       "    font-family: \"Source Code Pro\", \"Menlo\", monospace;;\n",
       "    font-size: 13px;\n",
       "    color: #555;\n",
       "    margin-left: 4px;\n",
       "    line-height: 19px;\n",
       "  }\n",
       "</style>\n",
       "<div class=\"ansiout\"></div>"
      ]
     },
     "metadata": {},
     "output_type": "display_data"
    }
   ],
   "source": [
    "def generate_auc_roc_curve(clf, X_test):\n",
    "    y_pred_proba = clf.predict_proba(X_test)[:, 1]\n",
    "    fpr, tpr, thresholds = roc_curve(Y_test,  y_pred_proba)\n",
    "    auc = roc_auc_score(Y_test, y_pred_proba)\n",
    "    plt.plot(fpr,tpr,label=\"AUC ROC Curve with Area Under the curve =\"+str(auc))\n",
    "    plt.legend(loc=4)\n",
    "    plt.show()\n",
    "    pass"
   ]
  },
  {
   "cell_type": "code",
   "execution_count": 7,
   "metadata": {},
   "outputs": [
    {
     "data": {
      "text/html": [
       "<style scoped>\n",
       "  .ansiout {\n",
       "    display: block;\n",
       "    unicode-bidi: embed;\n",
       "    white-space: pre-wrap;\n",
       "    word-wrap: break-word;\n",
       "    word-break: break-all;\n",
       "    font-family: \"Source Code Pro\", \"Menlo\", monospace;;\n",
       "    font-size: 13px;\n",
       "    color: #555;\n",
       "    margin-left: 4px;\n",
       "    line-height: 19px;\n",
       "  }\n",
       "</style>\n",
       "<div class=\"ansiout\"></div>"
      ]
     },
     "metadata": {},
     "output_type": "display_data"
    }
   ],
   "source": [
    "from pyspark.sql.functions import col, format_string, to_date, when\n",
    "\n",
    "base_path = \"/mnt/nl-wl-data-sandbox-recent/\"\n",
    "file_name = \"rcent_MODEl_v2.csv\"\n",
    "\n",
    "def read_csv(base_path, file_name):\n",
    "  file_path = \"%s/%s\" % (base_path, file_name)\n",
    "  df = spark.read.csv(file_path, header=True, inferSchema=True)\\\n",
    "    .withColumn(\"cust_nr\", format_string(\"%08d\", \"klant_nr\"))\\\n",
    "    .withColumn(\"datum\", to_date(\"datum\", \"dd-MM-yyyy\"))\\\n",
    "    .withColumn(\"target\", when(col(\"gb_def\")=='Good', 0).otherwise(1))\\\n",
    "    .drop(\"cust_id\",\"order\",\"date\")\n",
    "  \n",
    "  return df\n",
    "\n",
    "df = read_csv(base_path, file_name)\n"
   ]
  },
  {
   "cell_type": "code",
   "execution_count": 1,
   "metadata": {},
   "outputs": [
    {
     "ename": "NameError",
     "evalue": "name 'df' is not defined",
     "output_type": "error",
     "traceback": [
      "\u001b[1;31m---------------------------------------------------------------------------\u001b[0m",
      "\u001b[1;31mNameError\u001b[0m                                 Traceback (most recent call last)",
      "\u001b[1;32m<ipython-input-1-ce87482c9688>\u001b[0m in \u001b[0;36m<module>\u001b[1;34m\u001b[0m\n\u001b[0;32m      1\u001b[0m \u001b[1;31m# Convert spark dataframe to pandas dataframe\u001b[0m\u001b[1;33m\u001b[0m\u001b[1;33m\u001b[0m\u001b[1;33m\u001b[0m\u001b[0m\n\u001b[1;32m----> 2\u001b[1;33m \u001b[0mdf\u001b[0m \u001b[1;33m=\u001b[0m \u001b[0mdf\u001b[0m\u001b[1;33m.\u001b[0m\u001b[0mtoPandas\u001b[0m\u001b[1;33m(\u001b[0m\u001b[1;33m)\u001b[0m\u001b[1;33m\u001b[0m\u001b[1;33m\u001b[0m\u001b[0m\n\u001b[0m\u001b[0;32m      3\u001b[0m \u001b[0mdf\u001b[0m\u001b[1;33m.\u001b[0m\u001b[0mhead\u001b[0m\u001b[1;33m(\u001b[0m\u001b[1;33m)\u001b[0m\u001b[1;33m\u001b[0m\u001b[1;33m\u001b[0m\u001b[0m\n",
      "\u001b[1;31mNameError\u001b[0m: name 'df' is not defined"
     ]
    }
   ],
   "source": [
    "# Convert spark dataframe to pandas dataframe\n",
    "df = df.toPandas()\n",
    "df.head()"
   ]
  },
  {
   "cell_type": "code",
   "execution_count": 2,
   "metadata": {},
   "outputs": [
    {
     "ename": "NameError",
     "evalue": "name 'df' is not defined",
     "output_type": "error",
     "traceback": [
      "\u001b[1;31m---------------------------------------------------------------------------\u001b[0m",
      "\u001b[1;31mNameError\u001b[0m                                 Traceback (most recent call last)",
      "\u001b[1;32m<ipython-input-2-cfb0d8db14fd>\u001b[0m in \u001b[0;36m<module>\u001b[1;34m\u001b[0m\n\u001b[0;32m      2\u001b[0m \u001b[1;33m\u001b[0m\u001b[0m\n\u001b[0;32m      3\u001b[0m \u001b[1;31m#df.isnull().sum() --> works same as below code\u001b[0m\u001b[1;33m\u001b[0m\u001b[1;33m\u001b[0m\u001b[1;33m\u001b[0m\u001b[0m\n\u001b[1;32m----> 4\u001b[1;33m \u001b[0mdf\u001b[0m\u001b[1;33m.\u001b[0m\u001b[0mapply\u001b[0m\u001b[1;33m(\u001b[0m\u001b[1;32mlambda\u001b[0m \u001b[0mx\u001b[0m\u001b[1;33m:\u001b[0m \u001b[0msum\u001b[0m\u001b[1;33m(\u001b[0m\u001b[0mx\u001b[0m\u001b[1;33m.\u001b[0m\u001b[0misnull\u001b[0m\u001b[1;33m(\u001b[0m\u001b[1;33m)\u001b[0m\u001b[1;33m)\u001b[0m\u001b[1;33m,\u001b[0m \u001b[0maxis\u001b[0m\u001b[1;33m=\u001b[0m\u001b[1;36m0\u001b[0m\u001b[1;33m)\u001b[0m\u001b[1;33m\u001b[0m\u001b[1;33m\u001b[0m\u001b[0m\n\u001b[0m",
      "\u001b[1;31mNameError\u001b[0m: name 'df' is not defined"
     ]
    }
   ],
   "source": [
    "#shows the missing values at individual variable level\n",
    "\n",
    "#df.isnull().sum() --> works same as below code\n",
    "df.apply(lambda x: sum(x.isnull()), axis=0)"
   ]
  },
  {
   "cell_type": "code",
   "execution_count": 10,
   "metadata": {},
   "outputs": [
    {
     "data": {
      "text/html": [
       "<style scoped>\n",
       "  .ansiout {\n",
       "    display: block;\n",
       "    unicode-bidi: embed;\n",
       "    white-space: pre-wrap;\n",
       "    word-wrap: break-word;\n",
       "    word-break: break-all;\n",
       "    font-family: \"Source Code Pro\", \"Menlo\", monospace;;\n",
       "    font-size: 13px;\n",
       "    color: #555;\n",
       "    margin-left: 4px;\n",
       "    line-height: 19px;\n",
       "  }\n",
       "</style>\n",
       "<div class=\"ansiout\">Out[9]: 53016</div>"
      ]
     },
     "metadata": {},
     "output_type": "display_data"
    }
   ],
   "source": [
    "#shows the total number of missing values\n",
    "df.isnull().sum().sum()"
   ]
  },
  {
   "cell_type": "code",
   "execution_count": 11,
   "metadata": {},
   "outputs": [
    {
     "data": {
      "text/html": [
       "<style scoped>\n",
       "  .ansiout {\n",
       "    display: block;\n",
       "    unicode-bidi: embed;\n",
       "    white-space: pre-wrap;\n",
       "    word-wrap: break-word;\n",
       "    word-break: break-all;\n",
       "    font-family: \"Source Code Pro\", \"Menlo\", monospace;;\n",
       "    font-size: 13px;\n",
       "    color: #555;\n",
       "    margin-left: 4px;\n",
       "    line-height: 19px;\n",
       "  }\n",
       "</style>\n",
       "<div class=\"ansiout\">Out[10]: Series([], dtype: float64)</div>"
      ]
     },
     "metadata": {},
     "output_type": "display_data"
    }
   ],
   "source": [
    "#variables which we can remove\n",
    "var_null_pc = df.isnull().sum(axis=0).sort_values( ascending=False)/float(len(df) )\n",
    "var_null_pc[ var_null_pc > 0.75 ]"
   ]
  },
  {
   "cell_type": "code",
   "execution_count": 3,
   "metadata": {},
   "outputs": [
    {
     "ename": "NameError",
     "evalue": "name 'df' is not defined",
     "output_type": "error",
     "traceback": [
      "\u001b[1;31m---------------------------------------------------------------------------\u001b[0m",
      "\u001b[1;31mNameError\u001b[0m                                 Traceback (most recent call last)",
      "\u001b[1;32m<ipython-input-3-77ae56bb0db7>\u001b[0m in \u001b[0;36m<module>\u001b[1;34m\u001b[0m\n\u001b[1;32m----> 1\u001b[1;33m \u001b[0mdf\u001b[0m\u001b[1;33m.\u001b[0m\u001b[0mdrop\u001b[0m\u001b[1;33m(\u001b[0m \u001b[0mvar_null_pc\u001b[0m\u001b[1;33m[\u001b[0m \u001b[0mvar_null_pc\u001b[0m \u001b[1;33m>\u001b[0m \u001b[1;36m0.75\u001b[0m \u001b[1;33m]\u001b[0m\u001b[1;33m.\u001b[0m\u001b[0mindex\u001b[0m\u001b[1;33m,\u001b[0m \u001b[0maxis\u001b[0m \u001b[1;33m=\u001b[0m \u001b[1;36m1\u001b[0m\u001b[1;33m,\u001b[0m  \u001b[1;33m)\u001b[0m\u001b[1;33m\u001b[0m\u001b[1;33m\u001b[0m\u001b[0m\n\u001b[0m\u001b[0;32m      2\u001b[0m \u001b[0mdf\u001b[0m\u001b[1;33m.\u001b[0m\u001b[0mdropna\u001b[0m\u001b[1;33m(\u001b[0m \u001b[0maxis\u001b[0m \u001b[1;33m=\u001b[0m \u001b[1;36m0\u001b[0m\u001b[1;33m,\u001b[0m \u001b[0mthresh\u001b[0m \u001b[1;33m=\u001b[0m \u001b[1;36m30\u001b[0m\u001b[1;33m,\u001b[0m \u001b[1;33m)\u001b[0m\u001b[1;33m\u001b[0m\u001b[1;33m\u001b[0m\u001b[0m\n",
      "\u001b[1;31mNameError\u001b[0m: name 'df' is not defined"
     ]
    }
   ],
   "source": [
    "\n",
    "df.drop( var_null_pc[ var_null_pc > 0.75 ].index, axis = 1,  ) \n",
    "df.dropna( axis = 0, thresh = 30, )"
   ]
  },
  {
   "cell_type": "code",
   "execution_count": 13,
   "metadata": {},
   "outputs": [
    {
     "data": {
      "text/html": [
       "<style scoped>\n",
       "  .ansiout {\n",
       "    display: block;\n",
       "    unicode-bidi: embed;\n",
       "    white-space: pre-wrap;\n",
       "    word-wrap: break-word;\n",
       "    word-break: break-all;\n",
       "    font-family: \"Source Code Pro\", \"Menlo\", monospace;;\n",
       "    font-size: 13px;\n",
       "    color: #555;\n",
       "    margin-left: 4px;\n",
       "    line-height: 19px;\n",
       "  }\n",
       "</style>\n",
       "<div class=\"ansiout\"></div>"
      ]
     },
     "metadata": {},
     "output_type": "display_data"
    }
   ],
   "source": [
    "#Fillna method for Replacing with Mean Value\n",
    "df.fillna(df.median(), inplace= True)"
   ]
  },
  {
   "cell_type": "code",
   "execution_count": 14,
   "metadata": {},
   "outputs": [
    {
     "data": {
      "text/html": [
       "<style scoped>\n",
       "  .ansiout {\n",
       "    display: block;\n",
       "    unicode-bidi: embed;\n",
       "    white-space: pre-wrap;\n",
       "    word-wrap: break-word;\n",
       "    word-break: break-all;\n",
       "    font-family: \"Source Code Pro\", \"Menlo\", monospace;;\n",
       "    font-size: 13px;\n",
       "    color: #555;\n",
       "    margin-left: 4px;\n",
       "    line-height: 19px;\n",
       "  }\n",
       "</style>\n",
       "<div class=\"ansiout\"></div>"
      ]
     },
     "metadata": {},
     "output_type": "display_data"
    }
   ],
   "source": [
    "#Converting data type of float  columns \n",
    "cols=['cust_nr',  'ordervalue']\n",
    "df[cols] = df[cols].applymap(np.int32)"
   ]
  },
  {
   "cell_type": "code",
   "execution_count": 4,
   "metadata": {},
   "outputs": [
    {
     "ename": "NameError",
     "evalue": "name 'df' is not defined",
     "output_type": "error",
     "traceback": [
      "\u001b[1;31m---------------------------------------------------------------------------\u001b[0m",
      "\u001b[1;31mNameError\u001b[0m                                 Traceback (most recent call last)",
      "\u001b[1;32m<ipython-input-4-5cc0934cc03c>\u001b[0m in \u001b[0;36m<module>\u001b[1;34m\u001b[0m\n\u001b[1;32m----> 1\u001b[1;33m \u001b[0mdf\u001b[0m\u001b[1;33m.\u001b[0m\u001b[0mdtypes\u001b[0m\u001b[1;33m\u001b[0m\u001b[1;33m\u001b[0m\u001b[0m\n\u001b[0m",
      "\u001b[1;31mNameError\u001b[0m: name 'df' is not defined"
     ]
    }
   ],
   "source": [
    "df.dtypes\n"
   ]
  },
  {
   "cell_type": "code",
   "execution_count": 5,
   "metadata": {},
   "outputs": [
    {
     "ename": "NameError",
     "evalue": "name 'df' is not defined",
     "output_type": "error",
     "traceback": [
      "\u001b[1;31m---------------------------------------------------------------------------\u001b[0m",
      "\u001b[1;31mNameError\u001b[0m                                 Traceback (most recent call last)",
      "\u001b[1;32m<ipython-input-5-b666bf274d0a>\u001b[0m in \u001b[0;36m<module>\u001b[1;34m\u001b[0m\n\u001b[1;32m----> 1\u001b[1;33m \u001b[0mdf\u001b[0m\u001b[1;33m.\u001b[0m\u001b[0mcolumns\u001b[0m\u001b[1;33m\u001b[0m\u001b[1;33m\u001b[0m\u001b[0m\n\u001b[0m",
      "\u001b[1;31mNameError\u001b[0m: name 'df' is not defined"
     ]
    }
   ],
   "source": [
    "df.columns"
   ]
  },
  {
   "cell_type": "code",
   "execution_count": 17,
   "metadata": {},
   "outputs": [
    {
     "data": {
      "text/html": [
       "<style scoped>\n",
       "  .ansiout {\n",
       "    display: block;\n",
       "    unicode-bidi: embed;\n",
       "    white-space: pre-wrap;\n",
       "    word-wrap: break-word;\n",
       "    word-break: break-all;\n",
       "    font-family: \"Source Code Pro\", \"Menlo\", monospace;;\n",
       "    font-size: 13px;\n",
       "    color: #555;\n",
       "    margin-left: 4px;\n",
       "    line-height: 19px;\n",
       "  }\n",
       "</style>\n",
       "<div class=\"ansiout\"></div>"
      ]
     },
     "metadata": {},
     "output_type": "display_data"
    }
   ],
   "source": [
    "#df =df[~df.isin([np.nan, np.inf, -np.inf]).any(1)]\n",
    "#df.replace([np.inf, -np.inf], np.nan, inplace=True)"
   ]
  },
  {
   "cell_type": "code",
   "execution_count": 6,
   "metadata": {},
   "outputs": [
    {
     "ename": "NameError",
     "evalue": "name 'df' is not defined",
     "output_type": "error",
     "traceback": [
      "\u001b[1;31m---------------------------------------------------------------------------\u001b[0m",
      "\u001b[1;31mNameError\u001b[0m                                 Traceback (most recent call last)",
      "\u001b[1;32m<ipython-input-6-5cc0934cc03c>\u001b[0m in \u001b[0;36m<module>\u001b[1;34m\u001b[0m\n\u001b[1;32m----> 1\u001b[1;33m \u001b[0mdf\u001b[0m\u001b[1;33m.\u001b[0m\u001b[0mdtypes\u001b[0m\u001b[1;33m\u001b[0m\u001b[1;33m\u001b[0m\u001b[0m\n\u001b[0m",
      "\u001b[1;31mNameError\u001b[0m: name 'df' is not defined"
     ]
    }
   ],
   "source": [
    "df.dtypes\n"
   ]
  },
  {
   "cell_type": "code",
   "execution_count": 7,
   "metadata": {},
   "outputs": [
    {
     "ename": "NameError",
     "evalue": "name 'df' is not defined",
     "output_type": "error",
     "traceback": [
      "\u001b[1;31m---------------------------------------------------------------------------\u001b[0m",
      "\u001b[1;31mNameError\u001b[0m                                 Traceback (most recent call last)",
      "\u001b[1;32m<ipython-input-7-9e548d71b296>\u001b[0m in \u001b[0;36m<module>\u001b[1;34m\u001b[0m\n\u001b[0;32m      1\u001b[0m \u001b[1;31m##Use corr() function to find the correlation among the columns in the dataframe using ‘Pearson’ method.\u001b[0m\u001b[1;33m\u001b[0m\u001b[1;33m\u001b[0m\u001b[1;33m\u001b[0m\u001b[0m\n\u001b[1;32m----> 2\u001b[1;33m \u001b[0mdf\u001b[0m\u001b[1;33m.\u001b[0m\u001b[0mcorr\u001b[0m\u001b[1;33m(\u001b[0m\u001b[0mmethod\u001b[0m \u001b[1;33m=\u001b[0m \u001b[1;34m'pearson'\u001b[0m\u001b[1;33m)\u001b[0m\u001b[1;33m\u001b[0m\u001b[1;33m\u001b[0m\u001b[0m\n\u001b[0m",
      "\u001b[1;31mNameError\u001b[0m: name 'df' is not defined"
     ]
    }
   ],
   "source": [
    "##Use corr() function to find the correlation among the columns in the dataframe using ‘Pearson’ method.\n",
    "df.corr(method = 'pearson')"
   ]
  },
  {
   "cell_type": "code",
   "execution_count": 9,
   "metadata": {},
   "outputs": [
    {
     "ename": "NameError",
     "evalue": "name 'df' is not defined",
     "output_type": "error",
     "traceback": [
      "\u001b[1;31m---------------------------------------------------------------------------\u001b[0m",
      "\u001b[1;31mNameError\u001b[0m                                 Traceback (most recent call last)",
      "\u001b[1;32m<ipython-input-9-50f320b48efa>\u001b[0m in \u001b[0;36m<module>\u001b[1;34m\u001b[0m\n\u001b[0;32m      8\u001b[0m   \u001b[1;32mreturn\u001b[0m \u001b[0mdf\u001b[0m\u001b[1;33m.\u001b[0m\u001b[0mdrop\u001b[0m\u001b[1;33m(\u001b[0m\u001b[1;33m[\u001b[0m\u001b[1;34m'cust_nr'\u001b[0m\u001b[1;33m,\u001b[0m\u001b[1;34m'datum'\u001b[0m\u001b[1;33m,\u001b[0m\u001b[1;34m'ORDER'\u001b[0m\u001b[1;33m,\u001b[0m\u001b[1;34m'target'\u001b[0m\u001b[1;33m]\u001b[0m\u001b[1;33m)\u001b[0m\u001b[1;33m\u001b[0m\u001b[1;33m\u001b[0m\u001b[0m\n\u001b[0;32m      9\u001b[0m \u001b[1;33m\u001b[0m\u001b[0m\n\u001b[1;32m---> 10\u001b[1;33m \u001b[0mshow_missing_values\u001b[0m\u001b[1;33m(\u001b[0m\u001b[0mdf\u001b[0m\u001b[1;33m)\u001b[0m\u001b[1;33m\u001b[0m\u001b[1;33m\u001b[0m\u001b[0m\n\u001b[0m",
      "\u001b[1;31mNameError\u001b[0m: name 'df' is not defined"
     ]
    }
   ],
   "source": [
    "import pandas as pd\n",
    "\n",
    "def show_missing_values(df):\n",
    "  missing = df.isnull().sum()\n",
    "  percent = 100 * (missing / len(df))\n",
    "  df = pd.concat([missing, percent], axis=1)\n",
    "  df = df.rename(columns={0: \"aantal\", 1: \"%\"})\n",
    "  return df.drop(['cust_nr','datum','ORDER','target'])\n",
    "\n",
    "show_missing_values(df)"
   ]
  },
  {
   "cell_type": "code",
   "execution_count": 21,
   "metadata": {},
   "outputs": [
    {
     "data": {
      "text/html": [
       "<style scoped>\n",
       "  .ansiout {\n",
       "    display: block;\n",
       "    unicode-bidi: embed;\n",
       "    white-space: pre-wrap;\n",
       "    word-wrap: break-word;\n",
       "    word-break: break-all;\n",
       "    font-family: \"Source Code Pro\", \"Menlo\", monospace;;\n",
       "    font-size: 13px;\n",
       "    color: #555;\n",
       "    margin-left: 4px;\n",
       "    line-height: 19px;\n",
       "  }\n",
       "</style>\n",
       "<div class=\"ansiout\"></div>"
      ]
     },
     "metadata": {},
     "output_type": "display_data"
    }
   ],
   "source": [
    "# drop( ) function is used to remove column(s).axis=1 tells  that you want to apply function on columns instead of rows\n",
    "df.drop(['date','cust_nr', 'ORDER'], axis = 1, inplace= True)\n"
   ]
  },
  {
   "cell_type": "code",
   "execution_count": 22,
   "metadata": {},
   "outputs": [
    {
     "data": {
      "text/html": [
       "<style scoped>\n",
       "  .ansiout {\n",
       "    display: block;\n",
       "    unicode-bidi: embed;\n",
       "    white-space: pre-wrap;\n",
       "    word-wrap: break-word;\n",
       "    word-break: break-all;\n",
       "    font-family: \"Source Code Pro\", \"Menlo\", monospace;;\n",
       "    font-size: 13px;\n",
       "    color: #555;\n",
       "    margin-left: 4px;\n",
       "    line-height: 19px;\n",
       "  }\n",
       "</style>\n",
       "<div class=\"ansiout\"></div>"
      ]
     },
     "metadata": {},
     "output_type": "display_data"
    }
   ],
   "source": [
    "#Target columns\n",
    "target = 'target'"
   ]
  },
  {
   "cell_type": "code",
   "execution_count": 23,
   "metadata": {},
   "outputs": [
    {
     "data": {
      "text/html": [
       "<style scoped>\n",
       "  .ansiout {\n",
       "    display: block;\n",
       "    unicode-bidi: embed;\n",
       "    white-space: pre-wrap;\n",
       "    word-wrap: break-word;\n",
       "    word-break: break-all;\n",
       "    font-family: \"Source Code Pro\", \"Menlo\", monospace;;\n",
       "    font-size: 13px;\n",
       "    color: #555;\n",
       "    margin-left: 4px;\n",
       "    line-height: 19px;\n",
       "  }\n",
       "</style>\n",
       "<div class=\"ansiout\"></div>"
      ]
     },
     "metadata": {},
     "output_type": "display_data"
    }
   ],
   "source": [
    "#use to select rows and columns by the order in which they appear in the data frame NOT equal to target\n",
    "X = df.loc[:, df.columns!=target]"
   ]
  },
  {
   "cell_type": "code",
   "execution_count": 24,
   "metadata": {},
   "outputs": [
    {
     "data": {
      "text/html": [
       "<style scoped>\n",
       "  .ansiout {\n",
       "    display: block;\n",
       "    unicode-bidi: embed;\n",
       "    white-space: pre-wrap;\n",
       "    word-wrap: break-word;\n",
       "    word-break: break-all;\n",
       "    font-family: \"Source Code Pro\", \"Menlo\", monospace;;\n",
       "    font-size: 13px;\n",
       "    color: #555;\n",
       "    margin-left: 4px;\n",
       "    line-height: 19px;\n",
       "  }\n",
       "</style>\n",
       "<div class=\"ansiout\"></div>"
      ]
     },
     "metadata": {},
     "output_type": "display_data"
    }
   ],
   "source": [
    "#use to select rows and columns by the order in which they appear in the data frame\n",
    "Y = df.loc[:, df.columns==target]"
   ]
  },
  {
   "cell_type": "code",
   "execution_count": 25,
   "metadata": {},
   "outputs": [
    {
     "data": {
      "text/html": [
       "<style scoped>\n",
       "  .ansiout {\n",
       "    display: block;\n",
       "    unicode-bidi: embed;\n",
       "    white-space: pre-wrap;\n",
       "    word-wrap: break-word;\n",
       "    word-break: break-all;\n",
       "    font-family: \"Source Code Pro\", \"Menlo\", monospace;;\n",
       "    font-size: 13px;\n",
       "    color: #555;\n",
       "    margin-left: 4px;\n",
       "    line-height: 19px;\n",
       "  }\n",
       "</style>\n",
       "<div class=\"ansiout\"></div>"
      ]
     },
     "metadata": {},
     "output_type": "display_data"
    }
   ],
   "source": [
    "#spliting the dataset into training and test set\n",
    "X_train, X_test, Y_train, Y_test = train_test_split(X, Y, \n",
    "                                                    test_size=0.20, \n",
    "                                                    random_state=42)"
   ]
  },
  {
   "cell_type": "code",
   "execution_count": 26,
   "metadata": {},
   "outputs": [
    {
     "data": {
      "text/html": [
       "<style scoped>\n",
       "  .ansiout {\n",
       "    display: block;\n",
       "    unicode-bidi: embed;\n",
       "    white-space: pre-wrap;\n",
       "    word-wrap: break-word;\n",
       "    word-break: break-all;\n",
       "    font-family: \"Source Code Pro\", \"Menlo\", monospace;;\n",
       "    font-size: 13px;\n",
       "    color: #555;\n",
       "    margin-left: 4px;\n",
       "    line-height: 19px;\n",
       "  }\n",
       "</style>\n",
       "<div class=\"ansiout\">0    959537\n",
       "1     22894\n",
       "Name: target, dtype: int64\n",
       "</div>"
      ]
     },
     "metadata": {},
     "output_type": "display_data"
    }
   ],
   "source": [
    "# Draw Seaborn Scatter Plot to find target class\n",
    "ax = sns.countplot(x=target, data=df)\n",
    "print(df[target].value_counts())\n"
   ]
  },
  {
   "cell_type": "code",
   "execution_count": 27,
   "metadata": {},
   "outputs": [
    {
     "data": {
      "image/png": "[encoded data removed]"
     },
     "metadata": {},
     "output_type": "display_data"
    }
   ],
   "source": [
    "# visualize the target variable\n",
    "display(plt.show())"
   ]
  },
  {
   "cell_type": "code",
   "execution_count": 28,
   "metadata": {},
   "outputs": [
    {
     "data": {
      "text/html": [
       "<style scoped>\n",
       "  .ansiout {\n",
       "    display: block;\n",
       "    unicode-bidi: embed;\n",
       "    white-space: pre-wrap;\n",
       "    word-wrap: break-word;\n",
       "    word-break: break-all;\n",
       "    font-family: \"Source Code Pro\", \"Menlo\", monospace;;\n",
       "    font-size: 13px;\n",
       "    color: #555;\n",
       "    margin-left: 4px;\n",
       "    line-height: 19px;\n",
       "  }\n",
       "</style>\n",
       "<div class=\"ansiout\"><span class=\"ansi-cyan-fg\">  File </span><span class=\"ansi-green-fg\">&#34;&lt;command-150567&gt;&#34;</span><span class=\"ansi-cyan-fg\">, line </span><span class=\"ansi-green-fg\">2</span>\n",
       "<span class=\"ansi-red-fg\">    100* (22894/float(df.shape[0]))</span>\n",
       "    ^\n",
       "<span class=\"ansi-red-fg\">IndentationError</span><span class=\"ansi-red-fg\">:</span> unexpected indent\n",
       "</div>"
      ]
     },
     "metadata": {},
     "output_type": "display_data"
    }
   ],
   "source": [
    " # Target class 1\n",
    "  100* (22894/float(df.shape[0]))"
   ]
  },
  {
   "cell_type": "code",
   "execution_count": 29,
   "metadata": {},
   "outputs": [
    {
     "data": {
      "text/html": [
       "<style scoped>\n",
       "  .ansiout {\n",
       "    display: block;\n",
       "    unicode-bidi: embed;\n",
       "    white-space: pre-wrap;\n",
       "    word-wrap: break-word;\n",
       "    word-break: break-all;\n",
       "    font-family: \"Source Code Pro\", \"Menlo\", monospace;;\n",
       "    font-size: 13px;\n",
       "    color: #555;\n",
       "    margin-left: 4px;\n",
       "    line-height: 19px;\n",
       "  }\n",
       "</style>\n",
       "<div class=\"ansiout\">Out[29]: 97.66965822536137</div>"
      ]
     },
     "metadata": {},
     "output_type": "display_data"
    }
   ],
   "source": [
    "# Target class 0\n",
    "100* (959537/float(df.shape[0]))"
   ]
  },
  {
   "cell_type": "code",
   "execution_count": 30,
   "metadata": {},
   "outputs": [],
   "source": [
    "#Y train Target value counts\n",
    "Y_train[target].value_counts()"
   ]
  },
  {
   "cell_type": "code",
   "execution_count": 31,
   "metadata": {},
   "outputs": [
    {
     "data": {
      "text/html": [
       "<style scoped>\n",
       "  .ansiout {\n",
       "    display: block;\n",
       "    unicode-bidi: embed;\n",
       "    white-space: pre-wrap;\n",
       "    word-wrap: break-word;\n",
       "    word-break: break-all;\n",
       "    font-family: \"Source Code Pro\", \"Menlo\", monospace;;\n",
       "    font-size: 13px;\n",
       "    color: #555;\n",
       "    margin-left: 4px;\n",
       "    line-height: 19px;\n",
       "  }\n",
       "</style>\n",
       "<div class=\"ansiout\">/local_disk0/pythonVirtualEnvDirs/virtualEnv-f32bc380-646a-4acd-87ff-b578fc748500/lib/python3.7/site-packages/sklearn/utils/validation.py:72: DataConversionWarning: A column-vector y was passed when a 1d array was expected. Please change the shape of y to (n_samples, ), for example using ravel().\n",
       "  return f(**kwargs)\n",
       "</div>"
      ]
     },
     "metadata": {},
     "output_type": "display_data"
    }
   ],
   "source": [
    "#LogisticRegression\n",
    "clf = LogisticRegression().fit(X_train, Y_train)"
   ]
  },
  {
   "cell_type": "code",
   "execution_count": 32,
   "metadata": {},
   "outputs": [
    {
     "data": {
      "text/html": [
       "<style scoped>\n",
       "  .ansiout {\n",
       "    display: block;\n",
       "    unicode-bidi: embed;\n",
       "    white-space: pre-wrap;\n",
       "    word-wrap: break-word;\n",
       "    word-break: break-all;\n",
       "    font-family: \"Source Code Pro\", \"Menlo\", monospace;;\n",
       "    font-size: 13px;\n",
       "    color: #555;\n",
       "    margin-left: 4px;\n",
       "    line-height: 19px;\n",
       "  }\n",
       "</style>\n",
       "<div class=\"ansiout\"></div>"
      ]
     },
     "metadata": {},
     "output_type": "display_data"
    }
   ],
   "source": [
    "Y_Test_Pred = clf.predict(X_test)"
   ]
  },
  {
   "cell_type": "code",
   "execution_count": 33,
   "metadata": {},
   "outputs": [
    {
     "data": {
      "text/html": [
       "<div>\n",
       "<style scoped>\n",
       "    .dataframe tbody tr th:only-of-type {\n",
       "        vertical-align: middle;\n",
       "    }\n",
       "\n",
       "    .dataframe tbody tr th {\n",
       "        vertical-align: top;\n",
       "    }\n",
       "\n",
       "    .dataframe thead th {\n",
       "        text-align: right;\n",
       "    }\n",
       "</style>\n",
       "<table border=\"1\" class=\"dataframe\">\n",
       "  <thead>\n",
       "    <tr style=\"text-align: right;\">\n",
       "      <th>Actual</th>\n",
       "      <th>0</th>\n",
       "      <th>1</th>\n",
       "    </tr>\n",
       "    <tr>\n",
       "      <th>Predicted</th>\n",
       "      <th></th>\n",
       "      <th></th>\n",
       "    </tr>\n",
       "  </thead>\n",
       "  <tbody>\n",
       "    <tr>\n",
       "      <th>0</th>\n",
       "      <td>38444</td>\n",
       "      <td>836</td>\n",
       "    </tr>\n",
       "  </tbody>\n",
       "</table>\n",
       "</div>"
      ]
     },
     "metadata": {},
     "output_type": "display_data"
    }
   ],
   "source": [
    "# simple cross-tabulation of two (or more) factors\n",
    "pd.crosstab(pd.Series(Y_Test_Pred, name = 'Predicted'), \n",
    "            pd.Series(Y_test[target], name = 'Actual'))"
   ]
  },
  {
   "cell_type": "code",
   "execution_count": 34,
   "metadata": {},
   "outputs": [
    {
     "data": {
      "text/html": [
       "<style scoped>\n",
       "  .ansiout {\n",
       "    display: block;\n",
       "    unicode-bidi: embed;\n",
       "    white-space: pre-wrap;\n",
       "    word-wrap: break-word;\n",
       "    word-break: break-all;\n",
       "    font-family: \"Source Code Pro\", \"Menlo\", monospace;;\n",
       "    font-size: 13px;\n",
       "    color: #555;\n",
       "    margin-left: 4px;\n",
       "    line-height: 19px;\n",
       "  }\n",
       "</style>\n",
       "<div class=\"ansiout\">Accuracy =  0.976675301673902\n",
       "/local_disk0/pythonVirtualEnvDirs/virtualEnv-f32bc380-646a-4acd-87ff-b578fc748500/lib/python3.7/site-packages/sklearn/metrics/_classification.py:1221: UndefinedMetricWarning: Precision is ill-defined and being set to 0.0 due to no predicted samples. Use `zero_division` parameter to control this behavior.\n",
       "  _warn_prf(average, modifier, msg_start, len(result))\n",
       "Precision =  0.0\n",
       "Recall =  0.0\n",
       "F1 Score =  0.0\n",
       "</div>"
      ]
     },
     "metadata": {},
     "output_type": "display_data"
    }
   ],
   "source": [
    "#Model Report\n",
    "generate_model_report(Y_test, Y_Test_Pred)"
   ]
  },
  {
   "cell_type": "code",
   "execution_count": 35,
   "metadata": {},
   "outputs": [
    {
     "data": {
      "image/png": "[encoded data removed]"
     },
     "metadata": {},
     "output_type": "display_data"
    }
   ],
   "source": [
    "#AUC ROC Curve\n",
    "display(generate_auc_roc_curve(clf, X_test))\n"
   ]
  },
  {
   "cell_type": "code",
   "execution_count": 36,
   "metadata": {},
   "outputs": [
    {
     "data": {
      "text/html": [
       "<style scoped>\n",
       "  .ansiout {\n",
       "    display: block;\n",
       "    unicode-bidi: embed;\n",
       "    white-space: pre-wrap;\n",
       "    word-wrap: break-word;\n",
       "    word-break: break-all;\n",
       "    font-family: \"Source Code Pro\", \"Menlo\", monospace;;\n",
       "    font-size: 13px;\n",
       "    color: #555;\n",
       "    margin-left: 4px;\n",
       "    line-height: 19px;\n",
       "  }\n",
       "</style>\n",
       "<div class=\"ansiout\">Out[38]: [0, 1]</div>"
      ]
     },
     "metadata": {},
     "output_type": "display_data"
    }
   ],
   "source": [
    "\n",
    "unique_classes = list(df[target].unique())\n",
    "unique_classes"
   ]
  },
  {
   "cell_type": "code",
   "execution_count": 37,
   "metadata": {},
   "outputs": [
    {
     "data": {
      "text/html": [
       "<style scoped>\n",
       "  .ansiout {\n",
       "    display: block;\n",
       "    unicode-bidi: embed;\n",
       "    white-space: pre-wrap;\n",
       "    word-wrap: break-word;\n",
       "    word-break: break-all;\n",
       "    font-family: \"Source Code Pro\", \"Menlo\", monospace;;\n",
       "    font-size: 13px;\n",
       "    color: #555;\n",
       "    margin-left: 4px;\n",
       "    line-height: 19px;\n",
       "  }\n",
       "</style>\n",
       "<div class=\"ansiout\"></div>"
      ]
     },
     "metadata": {},
     "output_type": "display_data"
    }
   ],
   "source": [
    "out_dict = {}\n",
    "for classes in unique_classes:\n",
    "    out_dict[classes] = df.shape[0]/((df.loc[df[target] == classes].shape[0])\n",
    "                                     *len(unique_classes))"
   ]
  },
  {
   "cell_type": "code",
   "execution_count": 38,
   "metadata": {},
   "outputs": [
    {
     "data": {
      "text/html": [
       "<style scoped>\n",
       "  .ansiout {\n",
       "    display: block;\n",
       "    unicode-bidi: embed;\n",
       "    white-space: pre-wrap;\n",
       "    word-wrap: break-word;\n",
       "    word-break: break-all;\n",
       "    font-family: \"Source Code Pro\", \"Menlo\", monospace;;\n",
       "    font-size: 13px;\n",
       "    color: #555;\n",
       "    margin-left: 4px;\n",
       "    line-height: 19px;\n",
       "  }\n",
       "</style>\n",
       "<div class=\"ansiout\">Out[41]: {0: 0.5119297119339848, 1: 21.456080195684457}</div>"
      ]
     },
     "metadata": {},
     "output_type": "display_data"
    }
   ],
   "source": [
    "out_dict"
   ]
  },
  {
   "cell_type": "code",
   "execution_count": 39,
   "metadata": {},
   "outputs": [
    {
     "data": {
      "text/html": [
       "<style scoped>\n",
       "  .ansiout {\n",
       "    display: block;\n",
       "    unicode-bidi: embed;\n",
       "    white-space: pre-wrap;\n",
       "    word-wrap: break-word;\n",
       "    word-break: break-all;\n",
       "    font-family: \"Source Code Pro\", \"Menlo\", monospace;;\n",
       "    font-size: 13px;\n",
       "    color: #555;\n",
       "    margin-left: 4px;\n",
       "    line-height: 19px;\n",
       "  }\n",
       "</style>\n",
       "<div class=\"ansiout\">(785944, 9) (785944, 1)\n",
       "</div>"
      ]
     },
     "metadata": {},
     "output_type": "display_data"
    }
   ],
   "source": [
    "print (X_train.shape, Y_train.shape)"
   ]
  },
  {
   "cell_type": "code",
   "execution_count": 40,
   "metadata": {},
   "outputs": [
    {
     "data": {
      "text/html": [
       "<style scoped>\n",
       "  .ansiout {\n",
       "    display: block;\n",
       "    unicode-bidi: embed;\n",
       "    white-space: pre-wrap;\n",
       "    word-wrap: break-word;\n",
       "    word-break: break-all;\n",
       "    font-family: \"Source Code Pro\", \"Menlo\", monospace;;\n",
       "    font-size: 13px;\n",
       "    color: #555;\n",
       "    margin-left: 4px;\n",
       "    line-height: 19px;\n",
       "  }\n",
       "</style>\n",
       "<div class=\"ansiout\">/local_disk0/pythonVirtualEnvDirs/virtualEnv-f32bc380-646a-4acd-87ff-b578fc748500/lib/python3.7/site-packages/sklearn/utils/validation.py:72: DataConversionWarning: A column-vector y was passed when a 1d array was expected. Please change the shape of y to (n_samples, ), for example using ravel().\n",
       "  return f(**kwargs)\n",
       "/local_disk0/pythonVirtualEnvDirs/virtualEnv-f32bc380-646a-4acd-87ff-b578fc748500/lib/python3.7/site-packages/sklearn/linear_model/_logistic.py:764: ConvergenceWarning: lbfgs failed to converge (status=1):\n",
       "STOP: TOTAL NO. of ITERATIONS REACHED LIMIT.\n",
       "\n",
       "Increase the number of iterations (max_iter) or scale the data as shown in:\n",
       "    https://scikit-learn.org/stable/modules/preprocessing.html\n",
       "Please also refer to the documentation for alternative solver options:\n",
       "    https://scikit-learn.org/stable/modules/linear_model.html#logistic-regression\n",
       "  extra_warning_msg=_LOGISTIC_SOLVER_CONVERGENCE_MSG)\n",
       "</div>"
      ]
     },
     "metadata": {},
     "output_type": "display_data"
    }
   ],
   "source": [
    "clf = LogisticRegression(class_weight='balanced').fit(X_train, Y_train)"
   ]
  },
  {
   "cell_type": "code",
   "execution_count": 41,
   "metadata": {},
   "outputs": [
    {
     "data": {
      "text/html": [
       "<style scoped>\n",
       "  .ansiout {\n",
       "    display: block;\n",
       "    unicode-bidi: embed;\n",
       "    white-space: pre-wrap;\n",
       "    word-wrap: break-word;\n",
       "    word-break: break-all;\n",
       "    font-family: \"Source Code Pro\", \"Menlo\", monospace;;\n",
       "    font-size: 13px;\n",
       "    color: #555;\n",
       "    margin-left: 4px;\n",
       "    line-height: 19px;\n",
       "  }\n",
       "</style>\n",
       "<div class=\"ansiout\"></div>"
      ]
     },
     "metadata": {},
     "output_type": "display_data"
    }
   ],
   "source": [
    "from sklearn.utils import class_weight"
   ]
  },
  {
   "cell_type": "code",
   "execution_count": 42,
   "metadata": {},
   "outputs": [
    {
     "data": {
      "text/html": [
       "<style scoped>\n",
       "  .ansiout {\n",
       "    display: block;\n",
       "    unicode-bidi: embed;\n",
       "    white-space: pre-wrap;\n",
       "    word-wrap: break-word;\n",
       "    word-break: break-all;\n",
       "    font-family: \"Source Code Pro\", \"Menlo\", monospace;;\n",
       "    font-size: 13px;\n",
       "    color: #555;\n",
       "    margin-left: 4px;\n",
       "    line-height: 19px;\n",
       "  }\n",
       "</style>\n",
       "<div class=\"ansiout\">/local_disk0/pythonVirtualEnvDirs/virtualEnv-f32bc380-646a-4acd-87ff-b578fc748500/lib/python3.7/site-packages/sklearn/utils/validation.py:70: FutureWarning: Pass classes=[0 1], y=896567    0\n",
       "942959    0\n",
       "347857    0\n",
       "288379    0\n",
       "555383    0\n",
       "19454     0\n",
       "732681    0\n",
       "114087    0\n",
       "490617    0\n",
       "961282    0\n",
       "677165    0\n",
       "814149    0\n",
       "318555    0\n",
       "78219     0\n",
       "784976    0\n",
       "253410    0\n",
       "835449    0\n",
       "54210     0\n",
       "459906    0\n",
       "546674    0\n",
       "770165    0\n",
       "535886    0\n",
       "639141    0\n",
       "511822    0\n",
       "136396    0\n",
       "82561     0\n",
       "714610    0\n",
       "906722    0\n",
       "438847    0\n",
       "83685     0\n",
       "         ..\n",
       "235796    0\n",
       "103355    0\n",
       "791743    0\n",
       "199041    0\n",
       "776997    0\n",
       "327069    0\n",
       "718315    0\n",
       "321879    0\n",
       "787201    0\n",
       "64820     0\n",
       "329365    0\n",
       "41090     0\n",
       "278167    0\n",
       "191335    0\n",
       "175203    0\n",
       "912756    0\n",
       "899159    0\n",
       "87498     0\n",
       "954698    0\n",
       "521430    0\n",
       "137337    0\n",
       "54886     0\n",
       "732180    0\n",
       "110268    0\n",
       "644167    0\n",
       "259178    0\n",
       "365838    0\n",
       "131932    0\n",
       "671155    0\n",
       "121958    0\n",
       "Name: target, Length: 785944, dtype: int32 as keyword args. From version 0.25 passing these as positional arguments will result in an error\n",
       "  FutureWarning)\n",
       "Out[45]: array([ 0.51192692, 21.46097974])</div>"
      ]
     },
     "metadata": {},
     "output_type": "display_data"
    }
   ],
   "source": [
    "class_weight.compute_class_weight('balanced', np.unique(Y_train), Y_train[target])"
   ]
  },
  {
   "cell_type": "code",
   "execution_count": 43,
   "metadata": {},
   "outputs": [
    {
     "data": {
      "text/html": [
       "<style scoped>\n",
       "  .ansiout {\n",
       "    display: block;\n",
       "    unicode-bidi: embed;\n",
       "    white-space: pre-wrap;\n",
       "    word-wrap: break-word;\n",
       "    word-break: break-all;\n",
       "    font-family: \"Source Code Pro\", \"Menlo\", monospace;;\n",
       "    font-size: 13px;\n",
       "    color: #555;\n",
       "    margin-left: 4px;\n",
       "    line-height: 19px;\n",
       "  }\n",
       "</style>\n",
       "<div class=\"ansiout\"></div>"
      ]
     },
     "metadata": {},
     "output_type": "display_data"
    }
   ],
   "source": [
    "Y_Test_Pred = clf.predict(X_test)"
   ]
  },
  {
   "cell_type": "code",
   "execution_count": 44,
   "metadata": {},
   "outputs": [
    {
     "data": {
      "text/html": [
       "<div>\n",
       "<style scoped>\n",
       "    .dataframe tbody tr th:only-of-type {\n",
       "        vertical-align: middle;\n",
       "    }\n",
       "\n",
       "    .dataframe tbody tr th {\n",
       "        vertical-align: top;\n",
       "    }\n",
       "\n",
       "    .dataframe thead th {\n",
       "        text-align: right;\n",
       "    }\n",
       "</style>\n",
       "<table border=\"1\" class=\"dataframe\">\n",
       "  <thead>\n",
       "    <tr style=\"text-align: right;\">\n",
       "      <th>Actual</th>\n",
       "      <th>0</th>\n",
       "      <th>1</th>\n",
       "    </tr>\n",
       "    <tr>\n",
       "      <th>Predicted</th>\n",
       "      <th></th>\n",
       "      <th></th>\n",
       "    </tr>\n",
       "  </thead>\n",
       "  <tbody>\n",
       "    <tr>\n",
       "      <th>0</th>\n",
       "      <td>28557</td>\n",
       "      <td>612</td>\n",
       "    </tr>\n",
       "    <tr>\n",
       "      <th>1</th>\n",
       "      <td>9887</td>\n",
       "      <td>224</td>\n",
       "    </tr>\n",
       "  </tbody>\n",
       "</table>\n",
       "</div>"
      ]
     },
     "metadata": {},
     "output_type": "display_data"
    }
   ],
   "source": [
    "pd.crosstab(pd.Series(Y_Test_Pred, name = 'Predicted'), \n",
    "            pd.Series(Y_test[target], name = 'Actual'))"
   ]
  },
  {
   "cell_type": "markdown",
   "metadata": {},
   "source": [
    "##### Based on the confusion matrix we can measure the following:\n",
    "\n",
    "Precision: True Positives / All Predicted Positives = TP / (TP+FP). Precision is a measure of a classifier’s exactness. Low precision indicates a high number of false positives.\n",
    "\n",
    "Recall: True Positives / All actual positives = TP / (TP + FN). Recall is a measure of a classifier’s completeness. It is also the same as Sensitivity or the True positive rate. Low recall indicates a high number of false negatives.\n",
    "\n",
    "F1 score: 2TP/(2TP + FP + FN) A weighted average of precision and recall. If we wanted a balance between precision and recall then we’d look at F1 score."
   ]
  },
  {
   "cell_type": "code",
   "execution_count": 46,
   "metadata": {},
   "outputs": [
    {
     "data": {
      "text/html": [
       "<style scoped>\n",
       "  .ansiout {\n",
       "    display: block;\n",
       "    unicode-bidi: embed;\n",
       "    white-space: pre-wrap;\n",
       "    word-wrap: break-word;\n",
       "    word-break: break-all;\n",
       "    font-family: \"Source Code Pro\", \"Menlo\", monospace;;\n",
       "    font-size: 13px;\n",
       "    color: #555;\n",
       "    margin-left: 4px;\n",
       "    line-height: 19px;\n",
       "  }\n",
       "</style>\n",
       "<div class=\"ansiout\">Accuracy =  0.7439728837022297\n",
       "Precision =  0.05170892405435614\n",
       "Recall =  0.5753873008946105\n",
       "F1 Score =  0.09489024829075207\n",
       "</div>"
      ]
     },
     "metadata": {},
     "output_type": "display_data"
    }
   ],
   "source": [
    "generate_model_report(Y_test, Y_Test_Pred)"
   ]
  },
  {
   "cell_type": "markdown",
   "metadata": {},
   "source": [
    "AUC - ROC curve is a performance measurement for classification problem at various thresholds settings. ROC is a probability curve and AUC represents degree or measure of separability. It tells how much model is capable of distinguishing between classes."
   ]
  },
  {
   "cell_type": "code",
   "execution_count": 48,
   "metadata": {},
   "outputs": [
    {
     "data": {
      "image/png": "[encoded data removed]"
     },
     "metadata": {},
     "output_type": "display_data"
    }
   ],
   "source": [
    "display(generate_auc_roc_curve(clf, X_test))"
   ]
  },
  {
   "cell_type": "code",
   "execution_count": 49,
   "metadata": {},
   "outputs": [
    {
     "data": {
      "text/html": [
       "<style scoped>\n",
       "  .ansiout {\n",
       "    display: block;\n",
       "    unicode-bidi: embed;\n",
       "    white-space: pre-wrap;\n",
       "    word-wrap: break-word;\n",
       "    word-break: break-all;\n",
       "    font-family: \"Source Code Pro\", \"Menlo\", monospace;;\n",
       "    font-size: 13px;\n",
       "    color: #555;\n",
       "    margin-left: 4px;\n",
       "    line-height: 19px;\n",
       "  }\n",
       "</style>\n",
       "<div class=\"ansiout\">/local_disk0/pythonVirtualEnvDirs/virtualEnv-f32bc380-646a-4acd-87ff-b578fc748500/lib/python3.7/site-packages/sklearn/utils/validation.py:72: DataConversionWarning: A column-vector y was passed when a 1d array was expected. Please change the shape of y to (n_samples, ), for example using ravel().\n",
       "  return f(**kwargs)\n",
       "/local_disk0/pythonVirtualEnvDirs/virtualEnv-f32bc380-646a-4acd-87ff-b578fc748500/lib/python3.7/site-packages/sklearn/linear_model/_logistic.py:764: ConvergenceWarning: lbfgs failed to converge (status=1):\n",
       "STOP: TOTAL NO. of ITERATIONS REACHED LIMIT.\n",
       "\n",
       "Increase the number of iterations (max_iter) or scale the data as shown in:\n",
       "    https://scikit-learn.org/stable/modules/preprocessing.html\n",
       "Please also refer to the documentation for alternative solver options:\n",
       "    https://scikit-learn.org/stable/modules/linear_model.html#logistic-regression\n",
       "  extra_warning_msg=_LOGISTIC_SOLVER_CONVERGENCE_MSG)\n",
       "/local_disk0/pythonVirtualEnvDirs/virtualEnv-f32bc380-646a-4acd-87ff-b578fc748500/lib/python3.7/site-packages/sklearn/utils/validation.py:72: DataConversionWarning: A column-vector y was passed when a 1d array was expected. Please change the shape of y to (n_samples, ), for example using ravel().\n",
       "  return f(**kwargs)\n",
       "/local_disk0/pythonVirtualEnvDirs/virtualEnv-f32bc380-646a-4acd-87ff-b578fc748500/lib/python3.7/site-packages/sklearn/linear_model/_logistic.py:764: ConvergenceWarning: lbfgs failed to converge (status=1):\n",
       "STOP: TOTAL NO. of ITERATIONS REACHED LIMIT.\n",
       "\n",
       "Increase the number of iterations (max_iter) or scale the data as shown in:\n",
       "    https://scikit-learn.org/stable/modules/preprocessing.html\n",
       "Please also refer to the documentation for alternative solver options:\n",
       "    https://scikit-learn.org/stable/modules/linear_model.html#logistic-regression\n",
       "  extra_warning_msg=_LOGISTIC_SOLVER_CONVERGENCE_MSG)\n",
       "/local_disk0/pythonVirtualEnvDirs/virtualEnv-f32bc380-646a-4acd-87ff-b578fc748500/lib/python3.7/site-packages/sklearn/utils/validation.py:72: DataConversionWarning: A column-vector y was passed when a 1d array was expected. Please change the shape of y to (n_samples, ), for example using ravel().\n",
       "  return f(**kwargs)\n",
       "/local_disk0/pythonVirtualEnvDirs/virtualEnv-f32bc380-646a-4acd-87ff-b578fc748500/lib/python3.7/site-packages/sklearn/linear_model/_logistic.py:764: ConvergenceWarning: lbfgs failed to converge (status=1):\n",
       "STOP: TOTAL NO. of ITERATIONS REACHED LIMIT.\n",
       "\n",
       "Increase the number of iterations (max_iter) or scale the data as shown in:\n",
       "    https://scikit-learn.org/stable/modules/preprocessing.html\n",
       "Please also refer to the documentation for alternative solver options:\n",
       "    https://scikit-learn.org/stable/modules/linear_model.html#logistic-regression\n",
       "  extra_warning_msg=_LOGISTIC_SOLVER_CONVERGENCE_MSG)\n",
       "/local_disk0/pythonVirtualEnvDirs/virtualEnv-f32bc380-646a-4acd-87ff-b578fc748500/lib/python3.7/site-packages/sklearn/utils/validation.py:72: DataConversionWarning: A column-vector y was passed when a 1d array was expected. Please change the shape of y to (n_samples, ), for example using ravel().\n",
       "  return f(**kwargs)\n",
       "/local_disk0/pythonVirtualEnvDirs/virtualEnv-f32bc380-646a-4acd-87ff-b578fc748500/lib/python3.7/site-packages/sklearn/utils/validation.py:72: DataConversionWarning: A column-vector y was passed when a 1d array was expected. Please change the shape of y to (n_samples, ), for example using ravel().\n",
       "  return f(**kwargs)\n",
       "/local_disk0/pythonVirtualEnvDirs/virtualEnv-f32bc380-646a-4acd-87ff-b578fc748500/lib/python3.7/site-packages/sklearn/utils/validation.py:72: DataConversionWarning: A column-vector y was passed when a 1d array was expected. Please change the shape of y to (n_samples, ), for example using ravel().\n",
       "  return f(**kwargs)\n",
       "/local_disk0/pythonVirtualEnvDirs/virtualEnv-f32bc380-646a-4acd-87ff-b578fc748500/lib/python3.7/site-packages/sklearn/linear_model/_logistic.py:764: ConvergenceWarning: lbfgs failed to converge (status=1):\n",
       "STOP: TOTAL NO. of ITERATIONS REACHED LIMIT.\n",
       "\n",
       "Increase the number of iterations (max_iter) or scale the data as shown in:\n",
       "    https://scikit-learn.org/stable/modules/preprocessing.html\n",
       "Please also refer to the documentation for alternative solver options:\n",
       "    https://scikit-learn.org/stable/modules/linear_model.html#logistic-regression\n",
       "  extra_warning_msg=_LOGISTIC_SOLVER_CONVERGENCE_MSG)\n",
       "/local_disk0/pythonVirtualEnvDirs/virtualEnv-f32bc380-646a-4acd-87ff-b578fc748500/lib/python3.7/site-packages/sklearn/utils/validation.py:72: DataConversionWarning: A column-vector y was passed when a 1d array was expected. Please change the shape of y to (n_samples, ), for example using ravel().\n",
       "  return f(**kwargs)\n",
       "/local_disk0/pythonVirtualEnvDirs/virtualEnv-f32bc380-646a-4acd-87ff-b578fc748500/lib/python3.7/site-packages/sklearn/utils/validation.py:72: DataConversionWarning: A column-vector y was passed when a 1d array was expected. Please change the shape of y to (n_samples, ), for example using ravel().\n",
       "  return f(**kwargs)\n",
       "/local_disk0/pythonVirtualEnvDirs/virtualEnv-f32bc380-646a-4acd-87ff-b578fc748500/lib/python3.7/site-packages/sklearn/utils/validation.py:72: DataConversionWarning: A column-vector y was passed when a 1d array was expected. Please change the shape of y to (n_samples, ), for example using ravel().\n",
       "  return f(**kwargs)\n",
       "/local_disk0/pythonVirtualEnvDirs/virtualEnv-f32bc380-646a-4acd-87ff-b578fc748500/lib/python3.7/site-packages/sklearn/utils/validation.py:72: DataConversionWarning: A column-vector y was passed when a 1d array was expected. Please change the shape of y to (n_samples, ), for example using ravel().\n",
       "  return f(**kwargs)\n",
       "/local_disk0/pythonVirtualEnvDirs/virtualEnv-f32bc380-646a-4acd-87ff-b578fc748500/lib/python3.7/site-packages/sklearn/linear_model/_logistic.py:764: ConvergenceWarning: lbfgs failed to converge (status=1):\n",
       "STOP: TOTAL NO. of ITERATIONS REACHED LIMIT.\n",
       "\n",
       "Increase the number of iterations (max_iter) or scale the data as shown in:\n",
       "    https://scikit-learn.org/stable/modules/preprocessing.html\n",
       "Please also refer to the documentation for alternative solver options:\n",
       "    https://scikit-learn.org/stable/modules/linear_model.html#logistic-regression\n",
       "  extra_warning_msg=_LOGISTIC_SOLVER_CONVERGENCE_MSG)\n",
       "/local_disk0/pythonVirtualEnvDirs/virtualEnv-f32bc380-646a-4acd-87ff-b578fc748500/lib/python3.7/site-packages/sklearn/utils/validation.py:72: DataConversionWarning: A column-vector y was passed when a 1d array was expected. Please change the shape of y to (n_samples, ), for example using ravel().\n",
       "  return f(**kwargs)\n",
       "/local_disk0/pythonVirtualEnvDirs/virtualEnv-f32bc380-646a-4acd-87ff-b578fc748500/lib/python3.7/site-packages/sklearn/utils/validation.py:72: DataConversionWarning: A column-vector y was passed when a 1d array was expected. Please change the shape of y to (n_samples, ), for example using ravel().\n",
       "  return f(**kwargs)\n",
       "/local_disk0/pythonVirtualEnvDirs/virtualEnv-f32bc380-646a-4acd-87ff-b578fc748500/lib/python3.7/site-packages/sklearn/linear_model/_logistic.py:764: ConvergenceWarning: lbfgs failed to converge (status=1):\n",
       "STOP: TOTAL NO. of ITERATIONS REACHED LIMIT.\n",
       "\n",
       "Increase the number of iterations (max_iter) or scale the data as shown in:\n",
       "    https://scikit-learn.org/stable/modules/preprocessing.html\n",
       "Please also refer to the documentation for alternative solver options:\n",
       "    https://scikit-learn.org/stable/modules/linear_model.html#logistic-regression\n",
       "  extra_warning_msg=_LOGISTIC_SOLVER_CONVERGENCE_MSG)\n",
       "/local_disk0/pythonVirtualEnvDirs/virtualEnv-f32bc380-646a-4acd-87ff-b578fc748500/lib/python3.7/site-packages/sklearn/utils/validation.py:72: DataConversionWarning: A column-vector y was passed when a 1d array was expected. Please change the shape of y to (n_samples, ), for example using ravel().\n",
       "  return f(**kwargs)\n",
       "/local_disk0/pythonVirtualEnvDirs/virtualEnv-f32bc380-646a-4acd-87ff-b578fc748500/lib/python3.7/site-packages/sklearn/utils/validation.py:72: DataConversionWarning: A column-vector y was passed when a 1d array was expected. Please change the shape of y to (n_samples, ), for example using ravel().\n",
       "  return f(**kwargs)\n",
       "/local_disk0/pythonVirtualEnvDirs/virtualEnv-f32bc380-646a-4acd-87ff-b578fc748500/lib/python3.7/site-packages/sklearn/utils/validation.py:72: DataConversionWarning: A column-vector y was passed when a 1d array was expected. Please change the shape of y to (n_samples, ), for example using ravel().\n",
       "  return f(**kwargs)\n",
       "/local_disk0/pythonVirtualEnvDirs/virtualEnv-f32bc380-646a-4acd-87ff-b578fc748500/lib/python3.7/site-packages/sklearn/linear_model/_logistic.py:764: ConvergenceWarning: lbfgs failed to converge (status=1):\n",
       "STOP: TOTAL NO. of ITERATIONS REACHED LIMIT.\n",
       "\n",
       "Increase the number of iterations (max_iter) or scale the data as shown in:\n",
       "    https://scikit-learn.org/stable/modules/preprocessing.html\n",
       "Please also refer to the documentation for alternative solver options:\n",
       "    https://scikit-learn.org/stable/modules/linear_model.html#logistic-regression\n",
       "  extra_warning_msg=_LOGISTIC_SOLVER_CONVERGENCE_MSG)\n",
       "/local_disk0/pythonVirtualEnvDirs/virtualEnv-f32bc380-646a-4acd-87ff-b578fc748500/lib/python3.7/site-packages/sklearn/utils/validation.py:72: DataConversionWarning: A column-vector y was passed when a 1d array was expected. Please change the shape of y to (n_samples, ), for example using ravel().\n",
       "  return f(**kwargs)\n",
       "/local_disk0/pythonVirtualEnvDirs/virtualEnv-f32bc380-646a-4acd-87ff-b578fc748500/lib/python3.7/site-packages/sklearn/utils/validation.py:72: DataConversionWarning: A column-vector y was passed when a 1d array was expected. Please change the shape of y to (n_samples, ), for example using ravel().\n",
       "  return f(**kwargs)\n",
       "/local_disk0/pythonVirtualEnvDirs/virtualEnv-f32bc380-646a-4acd-87ff-b578fc748500/lib/python3.7/site-packages/sklearn/utils/validation.py:72: DataConversionWarning: A column-vector y was passed when a 1d array was expected. Please change the shape of y to (n_samples, ), for example using ravel().\n",
       "  return f(**kwargs)\n",
       "/local_disk0/pythonVirtualEnvDirs/virtualEnv-f32bc380-646a-4acd-87ff-b578fc748500/lib/python3.7/site-packages/sklearn/utils/validation.py:72: DataConversionWarning: A column-vector y was passed when a 1d array was expected. Please change the shape of y to (n_samples, ), for example using ravel().\n",
       "  return f(**kwargs)\n",
       "/local_disk0/pythonVirtualEnvDirs/virtualEnv-f32bc380-646a-4acd-87ff-b578fc748500/lib/python3.7/site-packages/sklearn/utils/validation.py:72: DataConversionWarning: A column-vector y was passed when a 1d array was expected. Please change the shape of y to (n_samples, ), for example using ravel().\n",
       "  return f(**kwargs)\n",
       "/local_disk0/pythonVirtualEnvDirs/virtualEnv-f32bc380-646a-4acd-87ff-b578fc748500/lib/python3.7/site-packages/sklearn/utils/validation.py:72: DataConversionWarning: A column-vector y was passed when a 1d array was expected. Please change the shape of y to (n_samples, ), for example using ravel().\n",
       "  return f(**kwargs)\n",
       "/local_disk0/pythonVirtualEnvDirs/virtualEnv-f32bc380-646a-4acd-87ff-b578fc748500/lib/python3.7/site-packages/sklearn/utils/validation.py:72: DataConversionWarning: A column-vector y was passed when a 1d array was expected. Please change the shape of y to (n_samples, ), for example using ravel().\n",
       "  return f(**kwargs)\n",
       "/local_disk0/pythonVirtualEnvDirs/virtualEnv-f32bc380-646a-4acd-87ff-b578fc748500/lib/python3.7/site-packages/sklearn/linear_model/_logistic.py:764: ConvergenceWarning: lbfgs failed to converge (status=1):\n",
       "STOP: TOTAL NO. of ITERATIONS REACHED LIMIT.\n",
       "\n",
       "Increase the number of iterations (max_iter) or scale the data as shown in:\n",
       "    https://scikit-learn.org/stable/modules/preprocessing.html\n",
       "Please also refer to the documentation for alternative solver options:\n",
       "    https://scikit-learn.org/stable/modules/linear_model.html#logistic-regression\n",
       "  extra_warning_msg=_LOGISTIC_SOLVER_CONVERGENCE_MSG)\n",
       "/local_disk0/pythonVirtualEnvDirs/virtualEnv-f32bc380-646a-4acd-87ff-b578fc748500/lib/python3.7/site-packages/sklearn/utils/validation.py:72: DataConversionWarning: A column-vector y was passed when a 1d array was expected. Please change the shape of y to (n_samples, ), for example using ravel().\n",
       "  return f(**kwargs)\n",
       "/local_disk0/pythonVirtualEnvDirs/virtualEnv-f32bc380-646a-4acd-87ff-b578fc748500/lib/python3.7/site-packages/sklearn/utils/validation.py:72: DataConversionWarning: A column-vector y was passed when a 1d array was expected. Please change the shape of y to (n_samples, ), for example using ravel().\n",
       "  return f(**kwargs)\n",
       "/local_disk0/pythonVirtualEnvDirs/virtualEnv-f32bc380-646a-4acd-87ff-b578fc748500/lib/python3.7/site-packages/sklearn/utils/validation.py:72: DataConversionWarning: A column-vector y was passed when a 1d array was expected. Please change the shape of y to (n_samples, ), for example using ravel().\n",
       "  return f(**kwargs)\n",
       "/local_disk0/pythonVirtualEnvDirs/virtualEnv-f32bc380-646a-4acd-87ff-b578fc748500/lib/python3.7/site-packages/sklearn/utils/validation.py:72: DataConversionWarning: A column-vector y was passed when a 1d array was expected. Please change the shape of y to (n_samples, ), for example using ravel().\n",
       "  return f(**kwargs)\n",
       "/local_disk0/pythonVirtualEnvDirs/virtualEnv-f32bc380-646a-4acd-87ff-b578fc748500/lib/python3.7/site-packages/sklearn/utils/validation.py:72: DataConversionWarning: A column-vector y was passed when a 1d array was expected. Please change the shape of y to (n_samples, ), for example using ravel().\n",
       "  return f(**kwargs)\n",
       "/local_disk0/pythonVirtualEnvDirs/virtualEnv-f32bc380-646a-4acd-87ff-b578fc748500/lib/python3.7/site-packages/sklearn/utils/validation.py:72: DataConversionWarning: A column-vector y was passed when a 1d array was expected. Please change the shape of y to (n_samples, ), for example using ravel().\n",
       "  return f(**kwargs)\n",
       "/local_disk0/pythonVirtualEnvDirs/virtualEnv-f32bc380-646a-4acd-87ff-b578fc748500/lib/python3.7/site-packages/sklearn/utils/validation.py:72: DataConversionWarning: A column-vector y was passed when a 1d array was expected. Please change the shape of y to (n_samples, ), for example using ravel().\n",
       "  return f(**kwargs)\n",
       "/local_disk0/pythonVirtualEnvDirs/virtualEnv-f32bc380-646a-4acd-87ff-b578fc748500/lib/python3.7/site-packages/sklearn/utils/validation.py:72: DataConversionWarning: A column-vector y was passed when a 1d array was expected. Please change the shape of y to (n_samples, ), for example using ravel().\n",
       "  return f(**kwargs)\n",
       "/local_disk0/pythonVirtualEnvDirs/virtualEnv-f32bc380-646a-4acd-87ff-b578fc748500/lib/python3.7/site-packages/sklearn/utils/validation.py:72: DataConversionWarning: A column-vector y was passed when a 1d array was expected. Please change the shape of y to (n_samples, ), for example using ravel().\n",
       "  return f(**kwargs)\n",
       "/local_disk0/pythonVirtualEnvDirs/virtualEnv-f32bc380-646a-4acd-87ff-b578fc748500/lib/python3.7/site-packages/sklearn/utils/validation.py:72: DataConversionWarning: A column-vector y was passed when a 1d array was expected. Please change the shape of y to (n_samples, ), for example using ravel().\n",
       "  return f(**kwargs)\n",
       "/local_disk0/pythonVirtualEnvDirs/virtualEnv-f32bc380-646a-4acd-87ff-b578fc748500/lib/python3.7/site-packages/sklearn/linear_model/_logistic.py:764: ConvergenceWarning: lbfgs failed to converge (status=1):\n",
       "STOP: TOTAL NO. of ITERATIONS REACHED LIMIT.\n",
       "\n",
       "Increase the number of iterations (max_iter) or scale the data as shown in:\n",
       "    https://scikit-learn.org/stable/modules/preprocessing.html\n",
       "Please also refer to the documentation for alternative solver options:\n",
       "    https://scikit-learn.org/stable/modules/linear_model.html#logistic-regression\n",
       "  extra_warning_msg=_LOGISTIC_SOLVER_CONVERGENCE_MSG)\n",
       "/local_disk0/pythonVirtualEnvDirs/virtualEnv-f32bc380-646a-4acd-87ff-b578fc748500/lib/python3.7/site-packages/sklearn/utils/validation.py:72: DataConversionWarning: A column-vector y was passed when a 1d array was expected. Please change the shape of y to (n_samples, ), for example using ravel().\n",
       "  return f(**kwargs)\n",
       "/local_disk0/pythonVirtualEnvDirs/virtualEnv-f32bc380-646a-4acd-87ff-b578fc748500/lib/python3.7/site-packages/sklearn/utils/validation.py:72: DataConversionWarning: A column-vector y was passed when a 1d array was expected. Please change the shape of y to (n_samples, ), for example using ravel().\n",
       "  return f(**kwargs)\n",
       "/local_disk0/pythonVirtualEnvDirs/virtualEnv-f32bc380-646a-4acd-87ff-b578fc748500/lib/python3.7/site-packages/sklearn/linear_model/_logistic.py:764: ConvergenceWarning: lbfgs failed to converge (status=1):\n",
       "STOP: TOTAL NO. of ITERATIONS REACHED LIMIT.\n",
       "\n",
       "Increase the number of iterations (max_iter) or scale the data as shown in:\n",
       "    https://scikit-learn.org/stable/modules/preprocessing.html\n",
       "Please also refer to the documentation for alternative solver options:\n",
       "    https://scikit-learn.org/stable/modules/linear_model.html#logistic-regression\n",
       "  extra_warning_msg=_LOGISTIC_SOLVER_CONVERGENCE_MSG)\n",
       "/local_disk0/pythonVirtualEnvDirs/virtualEnv-f32bc380-646a-4acd-87ff-b578fc748500/lib/python3.7/site-packages/sklearn/utils/validation.py:72: DataConversionWarning: A column-vector y was passed when a 1d array was expected. Please change the shape of y to (n_samples, ), for example using ravel().\n",
       "  return f(**kwargs)\n",
       "/local_disk0/pythonVirtualEnvDirs/virtualEnv-f32bc380-646a-4acd-87ff-b578fc748500/lib/python3.7/site-packages/sklearn/utils/validation.py:72: DataConversionWarning: A column-vector y was passed when a 1d array was expected. Please change the shape of y to (n_samples, ), for example using ravel().\n",
       "  return f(**kwargs)\n",
       "/local_disk0/pythonVirtualEnvDirs/virtualEnv-f32bc380-646a-4acd-87ff-b578fc748500/lib/python3.7/site-packages/sklearn/utils/validation.py:72: DataConversionWarning: A column-vector y was passed when a 1d array was expected. Please change the shape of y to (n_samples, ), for example using ravel().\n",
       "  return f(**kwargs)\n",
       "/local_disk0/pythonVirtualEnvDirs/virtualEnv-f32bc380-646a-4acd-87ff-b578fc748500/lib/python3.7/site-packages/sklearn/linear_model/_logistic.py:764: ConvergenceWarning: lbfgs failed to converge (status=1):\n",
       "STOP: TOTAL NO. of ITERATIONS REACHED LIMIT.\n",
       "\n",
       "Increase the number of iterations (max_iter) or scale the data as shown in:\n",
       "    https://scikit-learn.org/stable/modules/preprocessing.html\n",
       "Please also refer to the documentation for alternative solver options:\n",
       "    https://scikit-learn.org/stable/modules/linear_model.html#logistic-regression\n",
       "  extra_warning_msg=_LOGISTIC_SOLVER_CONVERGENCE_MSG)\n",
       "/local_disk0/pythonVirtualEnvDirs/virtualEnv-f32bc380-646a-4acd-87ff-b578fc748500/lib/python3.7/site-packages/sklearn/utils/validation.py:72: DataConversionWarning: A column-vector y was passed when a 1d array was expected. Please change the shape of y to (n_samples, ), for example using ravel().\n",
       "  return f(**kwargs)\n",
       "/local_disk0/pythonVirtualEnvDirs/virtualEnv-f32bc380-646a-4acd-87ff-b578fc748500/lib/python3.7/site-packages/sklearn/utils/validation.py:72: DataConversionWarning: A column-vector y was passed when a 1d array was expected. Please change the shape of y to (n_samples, ), for example using ravel().\n",
       "  return f(**kwargs)\n",
       "/local_disk0/pythonVirtualEnvDirs/virtualEnv-f32bc380-646a-4acd-87ff-b578fc748500/lib/python3.7/site-packages/sklearn/utils/validation.py:72: DataConversionWarning: A column-vector y was passed when a 1d array was expected. Please change the shape of y to (n_samples, ), for example using ravel().\n",
       "  return f(**kwargs)\n",
       "/local_disk0/pythonVirtualEnvDirs/virtualEnv-f32bc380-646a-4acd-87ff-b578fc748500/lib/python3.7/site-packages/sklearn/utils/validation.py:72: DataConversionWarning: A column-vector y was passed when a 1d array was expected. Please change the shape of y to (n_samples, ), for example using ravel().\n",
       "  return f(**kwargs)\n",
       "/local_disk0/pythonVirtualEnvDirs/virtualEnv-f32bc380-646a-4acd-87ff-b578fc748500/lib/python3.7/site-packages/sklearn/utils/validation.py:72: DataConversionWarning: A column-vector y was passed when a 1d array was expected. Please change the shape of y to (n_samples, ), for example using ravel().\n",
       "  return f(**kwargs)\n",
       "/local_disk0/pythonVirtualEnvDirs/virtualEnv-f32bc380-646a-4acd-87ff-b578fc748500/lib/python3.7/site-packages/sklearn/utils/validation.py:72: DataConversionWarning: A column-vector y was passed when a 1d array was expected. Please change the shape of y to (n_samples, ), for example using ravel().\n",
       "  return f(**kwargs)\n",
       "/local_disk0/pythonVirtualEnvDirs/virtualEnv-f32bc380-646a-4acd-87ff-b578fc748500/lib/python3.7/site-packages/sklearn/utils/validation.py:72: DataConversionWarning: A column-vector y was passed when a 1d array was expected. Please change the shape of y to (n_samples, ), for example using ravel().\n",
       "  return f(**kwargs)\n",
       "/local_disk0/pythonVirtualEnvDirs/virtualEnv-f32bc380-646a-4acd-87ff-b578fc748500/lib/python3.7/site-packages/sklearn/utils/validation.py:72: DataConversionWarning: A column-vector y was passed when a 1d array was expected. Please change the shape of y to (n_samples, ), for example using ravel().\n",
       "  return f(**kwargs)\n",
       "/local_disk0/pythonVirtualEnvDirs/virtualEnv-f32bc380-646a-4acd-87ff-b578fc748500/lib/python3.7/site-packages/sklearn/utils/validation.py:72: DataConversionWarning: A column-vector y was passed when a 1d array was expected. Please change the shape of y to (n_samples, ), for example using ravel().\n",
       "  return f(**kwargs)\n",
       "/local_disk0/pythonVirtualEnvDirs/virtualEnv-f32bc380-646a-4acd-87ff-b578fc748500/lib/python3.7/site-packages/sklearn/utils/validation.py:72: DataConversionWarning: A column-vector y was passed when a 1d array was expected. Please change the shape of y to (n_samples, ), for example using ravel().\n",
       "  return f(**kwargs)\n",
       "/local_disk0/pythonVirtualEnvDirs/virtualEnv-f32bc380-646a-4acd-87ff-b578fc748500/lib/python3.7/site-packages/sklearn/linear_model/_logistic.py:764: ConvergenceWarning: lbfgs failed to converge (status=1):\n",
       "STOP: TOTAL NO. of ITERATIONS REACHED LIMIT.\n",
       "\n",
       "Increase the number of iterations (max_iter) or scale the data as shown in:\n",
       "    https://scikit-learn.org/stable/modules/preprocessing.html\n",
       "Please also refer to the documentation for alternative solver options:\n",
       "    https://scikit-learn.org/stable/modules/linear_model.html#logistic-regression\n",
       "  extra_warning_msg=_LOGISTIC_SOLVER_CONVERGENCE_MSG)\n",
       "/local_disk0/pythonVirtualEnvDirs/virtualEnv-f32bc380-646a-4acd-87ff-b578fc748500/lib/python3.7/site-packages/sklearn/utils/validation.py:72: DataConversionWarning: A column-vector y was passed when a 1d array was expected. Please change the shape of y to (n_samples, ), for example using ravel().\n",
       "  return f(**kwargs)\n",
       "/local_disk0/pythonVirtualEnvDirs/virtualEnv-f32bc380-646a-4acd-87ff-b578fc748500/lib/python3.7/site-packages/sklearn/utils/validation.py:72: DataConversionWarning: A column-vector y was passed when a 1d array was expected. Please change the shape of y to (n_samples, ), for example using ravel().\n",
       "  return f(**kwargs)\n",
       "/local_disk0/pythonVirtualEnvDirs/virtualEnv-f32bc380-646a-4acd-87ff-b578fc748500/lib/python3.7/site-packages/sklearn/linear_model/_logistic.py:764: ConvergenceWarning: lbfgs failed to converge (status=1):\n",
       "STOP: TOTAL NO. of ITERATIONS REACHED LIMIT.\n",
       "\n",
       "Increase the number of iterations (max_iter) or scale the data as shown in:\n",
       "    https://scikit-learn.org/stable/modules/preprocessing.html\n",
       "Please also refer to the documentation for alternative solver options:\n",
       "    https://scikit-learn.org/stable/modules/linear_model.html#logistic-regression\n",
       "  extra_warning_msg=_LOGISTIC_SOLVER_CONVERGENCE_MSG)\n",
       "/local_disk0/pythonVirtualEnvDirs/virtualEnv-f32bc380-646a-4acd-87ff-b578fc748500/lib/python3.7/site-packages/sklearn/utils/validation.py:72: DataConversionWarning: A column-vector y was passed when a 1d array was expected. Please change the shape of y to (n_samples, ), for example using ravel().\n",
       "  return f(**kwargs)\n",
       "/local_disk0/pythonVirtualEnvDirs/virtualEnv-f32bc380-646a-4acd-87ff-b578fc748500/lib/python3.7/site-packages/sklearn/utils/validation.py:72: DataConversionWarning: A column-vector y was passed when a 1d array was expected. Please change the shape of y to (n_samples, ), for example using ravel().\n",
       "  return f(**kwargs)\n",
       "/local_disk0/pythonVirtualEnvDirs/virtualEnv-f32bc380-646a-4acd-87ff-b578fc748500/lib/python3.7/site-packages/sklearn/utils/validation.py:72: DataConversionWarning: A column-vector y was passed when a 1d array was expected. Please change the shape of y to (n_samples, ), for example using ravel().\n",
       "  return f(**kwargs)\n",
       "/local_disk0/pythonVirtualEnvDirs/virtualEnv-f32bc380-646a-4acd-87ff-b578fc748500/lib/python3.7/site-packages/sklearn/linear_model/_logistic.py:764: ConvergenceWarning: lbfgs failed to converge (status=1):\n",
       "STOP: TOTAL NO. of ITERATIONS REACHED LIMIT.\n",
       "\n",
       "Increase the number of iterations (max_iter) or scale the data as shown in:\n",
       "    https://scikit-learn.org/stable/modules/preprocessing.html\n",
       "Please also refer to the documentation for alternative solver options:\n",
       "    https://scikit-learn.org/stable/modules/linear_model.html#logistic-regression\n",
       "  extra_warning_msg=_LOGISTIC_SOLVER_CONVERGENCE_MSG)\n",
       "/local_disk0/pythonVirtualEnvDirs/virtualEnv-f32bc380-646a-4acd-87ff-b578fc748500/lib/python3.7/site-packages/sklearn/utils/validation.py:72: DataConversionWarning: A column-vector y was passed when a 1d array was expected. Please change the shape of y to (n_samples, ), for example using ravel().\n",
       "\n",
       "*** WARNING: skipped 14358 bytes of output ***\n",
       "\n",
       "    https://scikit-learn.org/stable/modules/linear_model.html#logistic-regression\n",
       "  extra_warning_msg=_LOGISTIC_SOLVER_CONVERGENCE_MSG)\n",
       "/local_disk0/pythonVirtualEnvDirs/virtualEnv-f32bc380-646a-4acd-87ff-b578fc748500/lib/python3.7/site-packages/sklearn/utils/validation.py:72: DataConversionWarning: A column-vector y was passed when a 1d array was expected. Please change the shape of y to (n_samples, ), for example using ravel().\n",
       "  return f(**kwargs)\n",
       "/local_disk0/pythonVirtualEnvDirs/virtualEnv-f32bc380-646a-4acd-87ff-b578fc748500/lib/python3.7/site-packages/sklearn/linear_model/_logistic.py:764: ConvergenceWarning: lbfgs failed to converge (status=1):\n",
       "STOP: TOTAL NO. of ITERATIONS REACHED LIMIT.\n",
       "\n",
       "Increase the number of iterations (max_iter) or scale the data as shown in:\n",
       "    https://scikit-learn.org/stable/modules/preprocessing.html\n",
       "Please also refer to the documentation for alternative solver options:\n",
       "    https://scikit-learn.org/stable/modules/linear_model.html#logistic-regression\n",
       "  extra_warning_msg=_LOGISTIC_SOLVER_CONVERGENCE_MSG)\n",
       "/local_disk0/pythonVirtualEnvDirs/virtualEnv-f32bc380-646a-4acd-87ff-b578fc748500/lib/python3.7/site-packages/sklearn/utils/validation.py:72: DataConversionWarning: A column-vector y was passed when a 1d array was expected. Please change the shape of y to (n_samples, ), for example using ravel().\n",
       "  return f(**kwargs)\n",
       "/local_disk0/pythonVirtualEnvDirs/virtualEnv-f32bc380-646a-4acd-87ff-b578fc748500/lib/python3.7/site-packages/sklearn/linear_model/_logistic.py:764: ConvergenceWarning: lbfgs failed to converge (status=1):\n",
       "STOP: TOTAL NO. of ITERATIONS REACHED LIMIT.\n",
       "\n",
       "Increase the number of iterations (max_iter) or scale the data as shown in:\n",
       "    https://scikit-learn.org/stable/modules/preprocessing.html\n",
       "Please also refer to the documentation for alternative solver options:\n",
       "    https://scikit-learn.org/stable/modules/linear_model.html#logistic-regression\n",
       "  extra_warning_msg=_LOGISTIC_SOLVER_CONVERGENCE_MSG)\n",
       "/local_disk0/pythonVirtualEnvDirs/virtualEnv-f32bc380-646a-4acd-87ff-b578fc748500/lib/python3.7/site-packages/sklearn/utils/validation.py:72: DataConversionWarning: A column-vector y was passed when a 1d array was expected. Please change the shape of y to (n_samples, ), for example using ravel().\n",
       "  return f(**kwargs)\n",
       "/local_disk0/pythonVirtualEnvDirs/virtualEnv-f32bc380-646a-4acd-87ff-b578fc748500/lib/python3.7/site-packages/sklearn/linear_model/_logistic.py:764: ConvergenceWarning: lbfgs failed to converge (status=1):\n",
       "STOP: TOTAL NO. of ITERATIONS REACHED LIMIT.\n",
       "\n",
       "Increase the number of iterations (max_iter) or scale the data as shown in:\n",
       "    https://scikit-learn.org/stable/modules/preprocessing.html\n",
       "Please also refer to the documentation for alternative solver options:\n",
       "    https://scikit-learn.org/stable/modules/linear_model.html#logistic-regression\n",
       "  extra_warning_msg=_LOGISTIC_SOLVER_CONVERGENCE_MSG)\n",
       "/local_disk0/pythonVirtualEnvDirs/virtualEnv-f32bc380-646a-4acd-87ff-b578fc748500/lib/python3.7/site-packages/sklearn/utils/validation.py:72: DataConversionWarning: A column-vector y was passed when a 1d array was expected. Please change the shape of y to (n_samples, ), for example using ravel().\n",
       "  return f(**kwargs)\n",
       "/local_disk0/pythonVirtualEnvDirs/virtualEnv-f32bc380-646a-4acd-87ff-b578fc748500/lib/python3.7/site-packages/sklearn/linear_model/_logistic.py:764: ConvergenceWarning: lbfgs failed to converge (status=1):\n",
       "STOP: TOTAL NO. of ITERATIONS REACHED LIMIT.\n",
       "\n",
       "Increase the number of iterations (max_iter) or scale the data as shown in:\n",
       "    https://scikit-learn.org/stable/modules/preprocessing.html\n",
       "Please also refer to the documentation for alternative solver options:\n",
       "    https://scikit-learn.org/stable/modules/linear_model.html#logistic-regression\n",
       "  extra_warning_msg=_LOGISTIC_SOLVER_CONVERGENCE_MSG)\n",
       "/local_disk0/pythonVirtualEnvDirs/virtualEnv-f32bc380-646a-4acd-87ff-b578fc748500/lib/python3.7/site-packages/sklearn/utils/validation.py:72: DataConversionWarning: A column-vector y was passed when a 1d array was expected. Please change the shape of y to (n_samples, ), for example using ravel().\n",
       "  return f(**kwargs)\n",
       "/local_disk0/pythonVirtualEnvDirs/virtualEnv-f32bc380-646a-4acd-87ff-b578fc748500/lib/python3.7/site-packages/sklearn/linear_model/_logistic.py:764: ConvergenceWarning: lbfgs failed to converge (status=1):\n",
       "STOP: TOTAL NO. of ITERATIONS REACHED LIMIT.\n",
       "\n",
       "Increase the number of iterations (max_iter) or scale the data as shown in:\n",
       "    https://scikit-learn.org/stable/modules/preprocessing.html\n",
       "Please also refer to the documentation for alternative solver options:\n",
       "    https://scikit-learn.org/stable/modules/linear_model.html#logistic-regression\n",
       "  extra_warning_msg=_LOGISTIC_SOLVER_CONVERGENCE_MSG)\n",
       "/local_disk0/pythonVirtualEnvDirs/virtualEnv-f32bc380-646a-4acd-87ff-b578fc748500/lib/python3.7/site-packages/sklearn/utils/validation.py:72: DataConversionWarning: A column-vector y was passed when a 1d array was expected. Please change the shape of y to (n_samples, ), for example using ravel().\n",
       "  return f(**kwargs)\n",
       "/local_disk0/pythonVirtualEnvDirs/virtualEnv-f32bc380-646a-4acd-87ff-b578fc748500/lib/python3.7/site-packages/sklearn/linear_model/_logistic.py:764: ConvergenceWarning: lbfgs failed to converge (status=1):\n",
       "STOP: TOTAL NO. of ITERATIONS REACHED LIMIT.\n",
       "\n",
       "Increase the number of iterations (max_iter) or scale the data as shown in:\n",
       "    https://scikit-learn.org/stable/modules/preprocessing.html\n",
       "Please also refer to the documentation for alternative solver options:\n",
       "    https://scikit-learn.org/stable/modules/linear_model.html#logistic-regression\n",
       "  extra_warning_msg=_LOGISTIC_SOLVER_CONVERGENCE_MSG)\n",
       "/local_disk0/pythonVirtualEnvDirs/virtualEnv-f32bc380-646a-4acd-87ff-b578fc748500/lib/python3.7/site-packages/sklearn/utils/validation.py:72: DataConversionWarning: A column-vector y was passed when a 1d array was expected. Please change the shape of y to (n_samples, ), for example using ravel().\n",
       "  return f(**kwargs)\n",
       "/local_disk0/pythonVirtualEnvDirs/virtualEnv-f32bc380-646a-4acd-87ff-b578fc748500/lib/python3.7/site-packages/sklearn/linear_model/_logistic.py:764: ConvergenceWarning: lbfgs failed to converge (status=1):\n",
       "STOP: TOTAL NO. of ITERATIONS REACHED LIMIT.\n",
       "\n",
       "Increase the number of iterations (max_iter) or scale the data as shown in:\n",
       "    https://scikit-learn.org/stable/modules/preprocessing.html\n",
       "Please also refer to the documentation for alternative solver options:\n",
       "    https://scikit-learn.org/stable/modules/linear_model.html#logistic-regression\n",
       "  extra_warning_msg=_LOGISTIC_SOLVER_CONVERGENCE_MSG)\n",
       "/local_disk0/pythonVirtualEnvDirs/virtualEnv-f32bc380-646a-4acd-87ff-b578fc748500/lib/python3.7/site-packages/sklearn/utils/validation.py:72: DataConversionWarning: A column-vector y was passed when a 1d array was expected. Please change the shape of y to (n_samples, ), for example using ravel().\n",
       "  return f(**kwargs)\n",
       "/local_disk0/pythonVirtualEnvDirs/virtualEnv-f32bc380-646a-4acd-87ff-b578fc748500/lib/python3.7/site-packages/sklearn/linear_model/_logistic.py:764: ConvergenceWarning: lbfgs failed to converge (status=1):\n",
       "STOP: TOTAL NO. of ITERATIONS REACHED LIMIT.\n",
       "\n",
       "Increase the number of iterations (max_iter) or scale the data as shown in:\n",
       "    https://scikit-learn.org/stable/modules/preprocessing.html\n",
       "Please also refer to the documentation for alternative solver options:\n",
       "    https://scikit-learn.org/stable/modules/linear_model.html#logistic-regression\n",
       "  extra_warning_msg=_LOGISTIC_SOLVER_CONVERGENCE_MSG)\n",
       "/local_disk0/pythonVirtualEnvDirs/virtualEnv-f32bc380-646a-4acd-87ff-b578fc748500/lib/python3.7/site-packages/sklearn/utils/validation.py:72: DataConversionWarning: A column-vector y was passed when a 1d array was expected. Please change the shape of y to (n_samples, ), for example using ravel().\n",
       "  return f(**kwargs)\n",
       "/local_disk0/pythonVirtualEnvDirs/virtualEnv-f32bc380-646a-4acd-87ff-b578fc748500/lib/python3.7/site-packages/sklearn/linear_model/_logistic.py:764: ConvergenceWarning: lbfgs failed to converge (status=1):\n",
       "STOP: TOTAL NO. of ITERATIONS REACHED LIMIT.\n",
       "\n",
       "Increase the number of iterations (max_iter) or scale the data as shown in:\n",
       "    https://scikit-learn.org/stable/modules/preprocessing.html\n",
       "Please also refer to the documentation for alternative solver options:\n",
       "    https://scikit-learn.org/stable/modules/linear_model.html#logistic-regression\n",
       "  extra_warning_msg=_LOGISTIC_SOLVER_CONVERGENCE_MSG)\n",
       "/local_disk0/pythonVirtualEnvDirs/virtualEnv-f32bc380-646a-4acd-87ff-b578fc748500/lib/python3.7/site-packages/sklearn/utils/validation.py:72: DataConversionWarning: A column-vector y was passed when a 1d array was expected. Please change the shape of y to (n_samples, ), for example using ravel().\n",
       "  return f(**kwargs)\n",
       "/local_disk0/pythonVirtualEnvDirs/virtualEnv-f32bc380-646a-4acd-87ff-b578fc748500/lib/python3.7/site-packages/sklearn/linear_model/_logistic.py:764: ConvergenceWarning: lbfgs failed to converge (status=1):\n",
       "STOP: TOTAL NO. of ITERATIONS REACHED LIMIT.\n",
       "\n",
       "Increase the number of iterations (max_iter) or scale the data as shown in:\n",
       "    https://scikit-learn.org/stable/modules/preprocessing.html\n",
       "Please also refer to the documentation for alternative solver options:\n",
       "    https://scikit-learn.org/stable/modules/linear_model.html#logistic-regression\n",
       "  extra_warning_msg=_LOGISTIC_SOLVER_CONVERGENCE_MSG)\n",
       "/local_disk0/pythonVirtualEnvDirs/virtualEnv-f32bc380-646a-4acd-87ff-b578fc748500/lib/python3.7/site-packages/sklearn/utils/validation.py:72: DataConversionWarning: A column-vector y was passed when a 1d array was expected. Please change the shape of y to (n_samples, ), for example using ravel().\n",
       "  return f(**kwargs)\n",
       "/local_disk0/pythonVirtualEnvDirs/virtualEnv-f32bc380-646a-4acd-87ff-b578fc748500/lib/python3.7/site-packages/sklearn/linear_model/_logistic.py:764: ConvergenceWarning: lbfgs failed to converge (status=1):\n",
       "STOP: TOTAL NO. of ITERATIONS REACHED LIMIT.\n",
       "\n",
       "Increase the number of iterations (max_iter) or scale the data as shown in:\n",
       "    https://scikit-learn.org/stable/modules/preprocessing.html\n",
       "Please also refer to the documentation for alternative solver options:\n",
       "    https://scikit-learn.org/stable/modules/linear_model.html#logistic-regression\n",
       "  extra_warning_msg=_LOGISTIC_SOLVER_CONVERGENCE_MSG)\n",
       "/local_disk0/pythonVirtualEnvDirs/virtualEnv-f32bc380-646a-4acd-87ff-b578fc748500/lib/python3.7/site-packages/sklearn/utils/validation.py:72: DataConversionWarning: A column-vector y was passed when a 1d array was expected. Please change the shape of y to (n_samples, ), for example using ravel().\n",
       "  return f(**kwargs)\n",
       "/local_disk0/pythonVirtualEnvDirs/virtualEnv-f32bc380-646a-4acd-87ff-b578fc748500/lib/python3.7/site-packages/sklearn/linear_model/_logistic.py:764: ConvergenceWarning: lbfgs failed to converge (status=1):\n",
       "STOP: TOTAL NO. of ITERATIONS REACHED LIMIT.\n",
       "\n",
       "Increase the number of iterations (max_iter) or scale the data as shown in:\n",
       "    https://scikit-learn.org/stable/modules/preprocessing.html\n",
       "Please also refer to the documentation for alternative solver options:\n",
       "    https://scikit-learn.org/stable/modules/linear_model.html#logistic-regression\n",
       "  extra_warning_msg=_LOGISTIC_SOLVER_CONVERGENCE_MSG)\n",
       "/local_disk0/pythonVirtualEnvDirs/virtualEnv-f32bc380-646a-4acd-87ff-b578fc748500/lib/python3.7/site-packages/sklearn/utils/validation.py:72: DataConversionWarning: A column-vector y was passed when a 1d array was expected. Please change the shape of y to (n_samples, ), for example using ravel().\n",
       "  return f(**kwargs)\n",
       "/local_disk0/pythonVirtualEnvDirs/virtualEnv-f32bc380-646a-4acd-87ff-b578fc748500/lib/python3.7/site-packages/sklearn/linear_model/_logistic.py:764: ConvergenceWarning: lbfgs failed to converge (status=1):\n",
       "STOP: TOTAL NO. of ITERATIONS REACHED LIMIT.\n",
       "\n",
       "Increase the number of iterations (max_iter) or scale the data as shown in:\n",
       "    https://scikit-learn.org/stable/modules/preprocessing.html\n",
       "Please also refer to the documentation for alternative solver options:\n",
       "    https://scikit-learn.org/stable/modules/linear_model.html#logistic-regression\n",
       "  extra_warning_msg=_LOGISTIC_SOLVER_CONVERGENCE_MSG)\n",
       "/local_disk0/pythonVirtualEnvDirs/virtualEnv-f32bc380-646a-4acd-87ff-b578fc748500/lib/python3.7/site-packages/sklearn/utils/validation.py:72: DataConversionWarning: A column-vector y was passed when a 1d array was expected. Please change the shape of y to (n_samples, ), for example using ravel().\n",
       "  return f(**kwargs)\n",
       "/local_disk0/pythonVirtualEnvDirs/virtualEnv-f32bc380-646a-4acd-87ff-b578fc748500/lib/python3.7/site-packages/sklearn/linear_model/_logistic.py:764: ConvergenceWarning: lbfgs failed to converge (status=1):\n",
       "STOP: TOTAL NO. of ITERATIONS REACHED LIMIT.\n",
       "\n",
       "Increase the number of iterations (max_iter) or scale the data as shown in:\n",
       "    https://scikit-learn.org/stable/modules/preprocessing.html\n",
       "Please also refer to the documentation for alternative solver options:\n",
       "    https://scikit-learn.org/stable/modules/linear_model.html#logistic-regression\n",
       "  extra_warning_msg=_LOGISTIC_SOLVER_CONVERGENCE_MSG)\n",
       "/local_disk0/pythonVirtualEnvDirs/virtualEnv-f32bc380-646a-4acd-87ff-b578fc748500/lib/python3.7/site-packages/sklearn/utils/validation.py:72: DataConversionWarning: A column-vector y was passed when a 1d array was expected. Please change the shape of y to (n_samples, ), for example using ravel().\n",
       "  return f(**kwargs)\n",
       "/local_disk0/pythonVirtualEnvDirs/virtualEnv-f32bc380-646a-4acd-87ff-b578fc748500/lib/python3.7/site-packages/sklearn/linear_model/_logistic.py:764: ConvergenceWarning: lbfgs failed to converge (status=1):\n",
       "STOP: TOTAL NO. of ITERATIONS REACHED LIMIT.\n",
       "\n",
       "Increase the number of iterations (max_iter) or scale the data as shown in:\n",
       "    https://scikit-learn.org/stable/modules/preprocessing.html\n",
       "Please also refer to the documentation for alternative solver options:\n",
       "    https://scikit-learn.org/stable/modules/linear_model.html#logistic-regression\n",
       "  extra_warning_msg=_LOGISTIC_SOLVER_CONVERGENCE_MSG)\n",
       "/local_disk0/pythonVirtualEnvDirs/virtualEnv-f32bc380-646a-4acd-87ff-b578fc748500/lib/python3.7/site-packages/sklearn/utils/validation.py:72: DataConversionWarning: A column-vector y was passed when a 1d array was expected. Please change the shape of y to (n_samples, ), for example using ravel().\n",
       "  return f(**kwargs)\n",
       "/local_disk0/pythonVirtualEnvDirs/virtualEnv-f32bc380-646a-4acd-87ff-b578fc748500/lib/python3.7/site-packages/sklearn/linear_model/_logistic.py:764: ConvergenceWarning: lbfgs failed to converge (status=1):\n",
       "STOP: TOTAL NO. of ITERATIONS REACHED LIMIT.\n",
       "\n",
       "Increase the number of iterations (max_iter) or scale the data as shown in:\n",
       "    https://scikit-learn.org/stable/modules/preprocessing.html\n",
       "Please also refer to the documentation for alternative solver options:\n",
       "    https://scikit-learn.org/stable/modules/linear_model.html#logistic-regression\n",
       "  extra_warning_msg=_LOGISTIC_SOLVER_CONVERGENCE_MSG)\n",
       "/local_disk0/pythonVirtualEnvDirs/virtualEnv-f32bc380-646a-4acd-87ff-b578fc748500/lib/python3.7/site-packages/sklearn/utils/validation.py:72: DataConversionWarning: A column-vector y was passed when a 1d array was expected. Please change the shape of y to (n_samples, ), for example using ravel().\n",
       "  return f(**kwargs)\n",
       "/local_disk0/pythonVirtualEnvDirs/virtualEnv-f32bc380-646a-4acd-87ff-b578fc748500/lib/python3.7/site-packages/sklearn/linear_model/_logistic.py:764: ConvergenceWarning: lbfgs failed to converge (status=1):\n",
       "STOP: TOTAL NO. of ITERATIONS REACHED LIMIT.\n",
       "\n",
       "Increase the number of iterations (max_iter) or scale the data as shown in:\n",
       "    https://scikit-learn.org/stable/modules/preprocessing.html\n",
       "Please also refer to the documentation for alternative solver options:\n",
       "    https://scikit-learn.org/stable/modules/linear_model.html#logistic-regression\n",
       "  extra_warning_msg=_LOGISTIC_SOLVER_CONVERGENCE_MSG)\n",
       "/local_disk0/pythonVirtualEnvDirs/virtualEnv-f32bc380-646a-4acd-87ff-b578fc748500/lib/python3.7/site-packages/sklearn/utils/validation.py:72: DataConversionWarning: A column-vector y was passed when a 1d array was expected. Please change the shape of y to (n_samples, ), for example using ravel().\n",
       "  return f(**kwargs)\n",
       "/local_disk0/pythonVirtualEnvDirs/virtualEnv-f32bc380-646a-4acd-87ff-b578fc748500/lib/python3.7/site-packages/sklearn/linear_model/_logistic.py:764: ConvergenceWarning: lbfgs failed to converge (status=1):\n",
       "STOP: TOTAL NO. of ITERATIONS REACHED LIMIT.\n",
       "\n",
       "Increase the number of iterations (max_iter) or scale the data as shown in:\n",
       "    https://scikit-learn.org/stable/modules/preprocessing.html\n",
       "Please also refer to the documentation for alternative solver options:\n",
       "    https://scikit-learn.org/stable/modules/linear_model.html#logistic-regression\n",
       "  extra_warning_msg=_LOGISTIC_SOLVER_CONVERGENCE_MSG)\n",
       "/local_disk0/pythonVirtualEnvDirs/virtualEnv-f32bc380-646a-4acd-87ff-b578fc748500/lib/python3.7/site-packages/sklearn/utils/validation.py:72: DataConversionWarning: A column-vector y was passed when a 1d array was expected. Please change the shape of y to (n_samples, ), for example using ravel().\n",
       "  return f(**kwargs)\n",
       "/local_disk0/pythonVirtualEnvDirs/virtualEnv-f32bc380-646a-4acd-87ff-b578fc748500/lib/python3.7/site-packages/sklearn/linear_model/_logistic.py:764: ConvergenceWarning: lbfgs failed to converge (status=1):\n",
       "STOP: TOTAL NO. of ITERATIONS REACHED LIMIT.\n",
       "\n",
       "Increase the number of iterations (max_iter) or scale the data as shown in:\n",
       "    https://scikit-learn.org/stable/modules/preprocessing.html\n",
       "Please also refer to the documentation for alternative solver options:\n",
       "    https://scikit-learn.org/stable/modules/linear_model.html#logistic-regression\n",
       "  extra_warning_msg=_LOGISTIC_SOLVER_CONVERGENCE_MSG)\n",
       "/local_disk0/pythonVirtualEnvDirs/virtualEnv-f32bc380-646a-4acd-87ff-b578fc748500/lib/python3.7/site-packages/sklearn/utils/validation.py:72: DataConversionWarning: A column-vector y was passed when a 1d array was expected. Please change the shape of y to (n_samples, ), for example using ravel().\n",
       "  return f(**kwargs)\n",
       "/local_disk0/pythonVirtualEnvDirs/virtualEnv-f32bc380-646a-4acd-87ff-b578fc748500/lib/python3.7/site-packages/sklearn/linear_model/_logistic.py:764: ConvergenceWarning: lbfgs failed to converge (status=1):\n",
       "STOP: TOTAL NO. of ITERATIONS REACHED LIMIT.\n",
       "\n",
       "Increase the number of iterations (max_iter) or scale the data as shown in:\n",
       "    https://scikit-learn.org/stable/modules/preprocessing.html\n",
       "Please also refer to the documentation for alternative solver options:\n",
       "    https://scikit-learn.org/stable/modules/linear_model.html#logistic-regression\n",
       "  extra_warning_msg=_LOGISTIC_SOLVER_CONVERGENCE_MSG)\n",
       "/local_disk0/pythonVirtualEnvDirs/virtualEnv-f32bc380-646a-4acd-87ff-b578fc748500/lib/python3.7/site-packages/sklearn/utils/validation.py:72: DataConversionWarning: A column-vector y was passed when a 1d array was expected. Please change the shape of y to (n_samples, ), for example using ravel().\n",
       "  return f(**kwargs)\n",
       "/local_disk0/pythonVirtualEnvDirs/virtualEnv-f32bc380-646a-4acd-87ff-b578fc748500/lib/python3.7/site-packages/sklearn/linear_model/_logistic.py:764: ConvergenceWarning: lbfgs failed to converge (status=1):\n",
       "STOP: TOTAL NO. of ITERATIONS REACHED LIMIT.\n",
       "\n",
       "Increase the number of iterations (max_iter) or scale the data as shown in:\n",
       "    https://scikit-learn.org/stable/modules/preprocessing.html\n",
       "Please also refer to the documentation for alternative solver options:\n",
       "    https://scikit-learn.org/stable/modules/linear_model.html#logistic-regression\n",
       "  extra_warning_msg=_LOGISTIC_SOLVER_CONVERGENCE_MSG)\n",
       "/local_disk0/pythonVirtualEnvDirs/virtualEnv-f32bc380-646a-4acd-87ff-b578fc748500/lib/python3.7/site-packages/sklearn/utils/validation.py:72: DataConversionWarning: A column-vector y was passed when a 1d array was expected. Please change the shape of y to (n_samples, ), for example using ravel().\n",
       "  return f(**kwargs)\n",
       "/local_disk0/pythonVirtualEnvDirs/virtualEnv-f32bc380-646a-4acd-87ff-b578fc748500/lib/python3.7/site-packages/sklearn/linear_model/_logistic.py:764: ConvergenceWarning: lbfgs failed to converge (status=1):\n",
       "STOP: TOTAL NO. of ITERATIONS REACHED LIMIT.\n",
       "\n",
       "Increase the number of iterations (max_iter) or scale the data as shown in:\n",
       "    https://scikit-learn.org/stable/modules/preprocessing.html\n",
       "Please also refer to the documentation for alternative solver options:\n",
       "    https://scikit-learn.org/stable/modules/linear_model.html#logistic-regression\n",
       "  extra_warning_msg=_LOGISTIC_SOLVER_CONVERGENCE_MSG)\n",
       "/local_disk0/pythonVirtualEnvDirs/virtualEnv-f32bc380-646a-4acd-87ff-b578fc748500/lib/python3.7/site-packages/sklearn/utils/validation.py:72: DataConversionWarning: A column-vector y was passed when a 1d array was expected. Please change the shape of y to (n_samples, ), for example using ravel().\n",
       "  return f(**kwargs)\n",
       "/local_disk0/pythonVirtualEnvDirs/virtualEnv-f32bc380-646a-4acd-87ff-b578fc748500/lib/python3.7/site-packages/sklearn/linear_model/_logistic.py:764: ConvergenceWarning: lbfgs failed to converge (status=1):\n",
       "STOP: TOTAL NO. of ITERATIONS REACHED LIMIT.\n",
       "\n",
       "Increase the number of iterations (max_iter) or scale the data as shown in:\n",
       "    https://scikit-learn.org/stable/modules/preprocessing.html\n",
       "Please also refer to the documentation for alternative solver options:\n",
       "    https://scikit-learn.org/stable/modules/linear_model.html#logistic-regression\n",
       "  extra_warning_msg=_LOGISTIC_SOLVER_CONVERGENCE_MSG)\n",
       "/local_disk0/pythonVirtualEnvDirs/virtualEnv-f32bc380-646a-4acd-87ff-b578fc748500/lib/python3.7/site-packages/sklearn/utils/validation.py:72: DataConversionWarning: A column-vector y was passed when a 1d array was expected. Please change the shape of y to (n_samples, ), for example using ravel().\n",
       "  return f(**kwargs)\n",
       "/local_disk0/pythonVirtualEnvDirs/virtualEnv-f32bc380-646a-4acd-87ff-b578fc748500/lib/python3.7/site-packages/sklearn/linear_model/_logistic.py:764: ConvergenceWarning: lbfgs failed to converge (status=1):\n",
       "STOP: TOTAL NO. of ITERATIONS REACHED LIMIT.\n",
       "\n",
       "Increase the number of iterations (max_iter) or scale the data as shown in:\n",
       "    https://scikit-learn.org/stable/modules/preprocessing.html\n",
       "Please also refer to the documentation for alternative solver options:\n",
       "    https://scikit-learn.org/stable/modules/linear_model.html#logistic-regression\n",
       "  extra_warning_msg=_LOGISTIC_SOLVER_CONVERGENCE_MSG)\n",
       "/local_disk0/pythonVirtualEnvDirs/virtualEnv-f32bc380-646a-4acd-87ff-b578fc748500/lib/python3.7/site-packages/sklearn/utils/validation.py:72: DataConversionWarning: A column-vector y was passed when a 1d array was expected. Please change the shape of y to (n_samples, ), for example using ravel().\n",
       "  return f(**kwargs)\n",
       "/local_disk0/pythonVirtualEnvDirs/virtualEnv-f32bc380-646a-4acd-87ff-b578fc748500/lib/python3.7/site-packages/sklearn/linear_model/_logistic.py:764: ConvergenceWarning: lbfgs failed to converge (status=1):\n",
       "STOP: TOTAL NO. of ITERATIONS REACHED LIMIT.\n",
       "\n",
       "Increase the number of iterations (max_iter) or scale the data as shown in:\n",
       "    https://scikit-learn.org/stable/modules/preprocessing.html\n",
       "Please also refer to the documentation for alternative solver options:\n",
       "    https://scikit-learn.org/stable/modules/linear_model.html#logistic-regression\n",
       "  extra_warning_msg=_LOGISTIC_SOLVER_CONVERGENCE_MSG)\n",
       "/local_disk0/pythonVirtualEnvDirs/virtualEnv-f32bc380-646a-4acd-87ff-b578fc748500/lib/python3.7/site-packages/sklearn/utils/validation.py:72: DataConversionWarning: A column-vector y was passed when a 1d array was expected. Please change the shape of y to (n_samples, ), for example using ravel().\n",
       "  return f(**kwargs)\n",
       "/local_disk0/pythonVirtualEnvDirs/virtualEnv-f32bc380-646a-4acd-87ff-b578fc748500/lib/python3.7/site-packages/sklearn/linear_model/_logistic.py:764: ConvergenceWarning: lbfgs failed to converge (status=1):\n",
       "STOP: TOTAL NO. of ITERATIONS REACHED LIMIT.\n",
       "\n",
       "Increase the number of iterations (max_iter) or scale the data as shown in:\n",
       "    https://scikit-learn.org/stable/modules/preprocessing.html\n",
       "Please also refer to the documentation for alternative solver options:\n",
       "    https://scikit-learn.org/stable/modules/linear_model.html#logistic-regression\n",
       "  extra_warning_msg=_LOGISTIC_SOLVER_CONVERGENCE_MSG)\n",
       "/local_disk0/pythonVirtualEnvDirs/virtualEnv-f32bc380-646a-4acd-87ff-b578fc748500/lib/python3.7/site-packages/sklearn/utils/validation.py:72: DataConversionWarning: A column-vector y was passed when a 1d array was expected. Please change the shape of y to (n_samples, ), for example using ravel().\n",
       "  return f(**kwargs)\n",
       "/local_disk0/pythonVirtualEnvDirs/virtualEnv-f32bc380-646a-4acd-87ff-b578fc748500/lib/python3.7/site-packages/sklearn/linear_model/_logistic.py:764: ConvergenceWarning: lbfgs failed to converge (status=1):\n",
       "STOP: TOTAL NO. of ITERATIONS REACHED LIMIT.\n",
       "\n",
       "Increase the number of iterations (max_iter) or scale the data as shown in:\n",
       "    https://scikit-learn.org/stable/modules/preprocessing.html\n",
       "Please also refer to the documentation for alternative solver options:\n",
       "    https://scikit-learn.org/stable/modules/linear_model.html#logistic-regression\n",
       "  extra_warning_msg=_LOGISTIC_SOLVER_CONVERGENCE_MSG)\n",
       "Best parameters : {&#39;class_weight&#39;: {0: 0.05, 1: 0.95}}\n",
       "</div>"
      ]
     },
     "metadata": {},
     "output_type": "display_data"
    }
   ],
   "source": [
    " #Explore the effect of weighting on F1 score \n",
    "weights = np.linspace(0.05, 0.95, 20)\n",
    "gsc = GridSearchCV(\n",
    "    estimator=LogisticRegression(),\n",
    "    param_grid={\n",
    "        'class_weight': [{0: x, 1: 1.0-x} for x in weights]\n",
    "    },\n",
    "    scoring='f1',\n",
    "    cv=5\n",
    ")\n",
    "\n",
    "grid_result = gsc.fit(X_train, Y_train)\n",
    "print(\"Best parameters : %s\" % grid_result.best_params_)"
   ]
  },
  {
   "cell_type": "code",
   "execution_count": 50,
   "metadata": {},
   "outputs": [
    {
     "data": {
      "image/png": "[encoded data removed]"
     },
     "metadata": {},
     "output_type": "display_data"
    }
   ],
   "source": [
    "#Effect of weighting on F1 score to figure \n",
    "data_out = pd.DataFrame({'score': grid_result.cv_results_['mean_test_score'],\n",
    "                       'weight': weights })\n",
    "display(data_out.plot(x='weight').figure)"
   ]
  },
  {
   "cell_type": "code",
   "execution_count": 51,
   "metadata": {},
   "outputs": [
    {
     "data": {
      "text/html": [
       "<div>\n",
       "<style scoped>\n",
       "    .dataframe tbody tr th:only-of-type {\n",
       "        vertical-align: middle;\n",
       "    }\n",
       "\n",
       "    .dataframe tbody tr th {\n",
       "        vertical-align: top;\n",
       "    }\n",
       "\n",
       "    .dataframe thead th {\n",
       "        text-align: right;\n",
       "    }\n",
       "</style>\n",
       "<table border=\"1\" class=\"dataframe\">\n",
       "  <thead>\n",
       "    <tr style=\"text-align: right;\">\n",
       "      <th></th>\n",
       "      <th>score</th>\n",
       "      <th>weight</th>\n",
       "    </tr>\n",
       "  </thead>\n",
       "  <tbody>\n",
       "    <tr>\n",
       "      <th>0</th>\n",
       "      <td>0.114811</td>\n",
       "      <td>0.050000</td>\n",
       "    </tr>\n",
       "    <tr>\n",
       "      <th>1</th>\n",
       "      <td>0.093440</td>\n",
       "      <td>0.097368</td>\n",
       "    </tr>\n",
       "    <tr>\n",
       "      <th>2</th>\n",
       "      <td>0.010137</td>\n",
       "      <td>0.144737</td>\n",
       "    </tr>\n",
       "    <tr>\n",
       "      <th>3</th>\n",
       "      <td>0.000436</td>\n",
       "      <td>0.192105</td>\n",
       "    </tr>\n",
       "    <tr>\n",
       "      <th>4</th>\n",
       "      <td>0.000000</td>\n",
       "      <td>0.239474</td>\n",
       "    </tr>\n",
       "    <tr>\n",
       "      <th>5</th>\n",
       "      <td>0.000000</td>\n",
       "      <td>0.286842</td>\n",
       "    </tr>\n",
       "    <tr>\n",
       "      <th>6</th>\n",
       "      <td>0.000000</td>\n",
       "      <td>0.334211</td>\n",
       "    </tr>\n",
       "    <tr>\n",
       "      <th>7</th>\n",
       "      <td>0.000000</td>\n",
       "      <td>0.381579</td>\n",
       "    </tr>\n",
       "    <tr>\n",
       "      <th>8</th>\n",
       "      <td>0.000000</td>\n",
       "      <td>0.428947</td>\n",
       "    </tr>\n",
       "    <tr>\n",
       "      <th>9</th>\n",
       "      <td>0.000000</td>\n",
       "      <td>0.476316</td>\n",
       "    </tr>\n",
       "    <tr>\n",
       "      <th>10</th>\n",
       "      <td>0.000000</td>\n",
       "      <td>0.523684</td>\n",
       "    </tr>\n",
       "    <tr>\n",
       "      <th>11</th>\n",
       "      <td>0.000000</td>\n",
       "      <td>0.571053</td>\n",
       "    </tr>\n",
       "    <tr>\n",
       "      <th>12</th>\n",
       "      <td>0.000000</td>\n",
       "      <td>0.618421</td>\n",
       "    </tr>\n",
       "    <tr>\n",
       "      <th>13</th>\n",
       "      <td>0.000000</td>\n",
       "      <td>0.665789</td>\n",
       "    </tr>\n",
       "    <tr>\n",
       "      <th>14</th>\n",
       "      <td>0.000000</td>\n",
       "      <td>0.713158</td>\n",
       "    </tr>\n",
       "    <tr>\n",
       "      <th>15</th>\n",
       "      <td>0.000000</td>\n",
       "      <td>0.760526</td>\n",
       "    </tr>\n",
       "    <tr>\n",
       "      <th>16</th>\n",
       "      <td>0.000000</td>\n",
       "      <td>0.807895</td>\n",
       "    </tr>\n",
       "    <tr>\n",
       "      <th>17</th>\n",
       "      <td>0.000000</td>\n",
       "      <td>0.855263</td>\n",
       "    </tr>\n",
       "    <tr>\n",
       "      <th>18</th>\n",
       "      <td>0.000000</td>\n",
       "      <td>0.902632</td>\n",
       "    </tr>\n",
       "    <tr>\n",
       "      <th>19</th>\n",
       "      <td>0.000000</td>\n",
       "      <td>0.950000</td>\n",
       "    </tr>\n",
       "  </tbody>\n",
       "</table>\n",
       "</div>"
      ]
     },
     "metadata": {},
     "output_type": "display_data"
    }
   ],
   "source": [
    "#Score vs Weight\n",
    "data_out"
   ]
  },
  {
   "cell_type": "code",
   "execution_count": 52,
   "metadata": {},
   "outputs": [
    {
     "data": {
      "text/html": [
       "<style scoped>\n",
       "  .ansiout {\n",
       "    display: block;\n",
       "    unicode-bidi: embed;\n",
       "    white-space: pre-wrap;\n",
       "    word-wrap: break-word;\n",
       "    word-break: break-all;\n",
       "    font-family: \"Source Code Pro\", \"Menlo\", monospace;;\n",
       "    font-size: 13px;\n",
       "    color: #555;\n",
       "    margin-left: 4px;\n",
       "    line-height: 19px;\n",
       "  }\n",
       "</style>\n",
       "<div class=\"ansiout\">/local_disk0/pythonVirtualEnvDirs/virtualEnv-f32bc380-646a-4acd-87ff-b578fc748500/lib/python3.7/site-packages/sklearn/utils/validation.py:72: DataConversionWarning: A column-vector y was passed when a 1d array was expected. Please change the shape of y to (n_samples, ), for example using ravel().\n",
       "  return f(**kwargs)\n",
       "/local_disk0/pythonVirtualEnvDirs/virtualEnv-f32bc380-646a-4acd-87ff-b578fc748500/lib/python3.7/site-packages/sklearn/linear_model/_logistic.py:764: ConvergenceWarning: lbfgs failed to converge (status=1):\n",
       "STOP: TOTAL NO. of ITERATIONS REACHED LIMIT.\n",
       "\n",
       "Increase the number of iterations (max_iter) or scale the data as shown in:\n",
       "    https://scikit-learn.org/stable/modules/preprocessing.html\n",
       "Please also refer to the documentation for alternative solver options:\n",
       "    https://scikit-learn.org/stable/modules/linear_model.html#logistic-regression\n",
       "  extra_warning_msg=_LOGISTIC_SOLVER_CONVERGENCE_MSG)\n",
       "</div>"
      ]
     },
     "metadata": {},
     "output_type": "display_data"
    }
   ],
   "source": [
    "#Log REG Undersampling\n",
    "clf = LogisticRegression(**grid_result.best_params_).fit(X_train, Y_train)"
   ]
  },
  {
   "cell_type": "code",
   "execution_count": 53,
   "metadata": {},
   "outputs": [
    {
     "data": {
      "text/html": [
       "<style scoped>\n",
       "  .ansiout {\n",
       "    display: block;\n",
       "    unicode-bidi: embed;\n",
       "    white-space: pre-wrap;\n",
       "    word-wrap: break-word;\n",
       "    word-break: break-all;\n",
       "    font-family: \"Source Code Pro\", \"Menlo\", monospace;;\n",
       "    font-size: 13px;\n",
       "    color: #555;\n",
       "    margin-left: 4px;\n",
       "    line-height: 19px;\n",
       "  }\n",
       "</style>\n",
       "<div class=\"ansiout\"></div>"
      ]
     },
     "metadata": {},
     "output_type": "display_data"
    }
   ],
   "source": [
    "Y_Test_Pred = clf.predict(X_test)"
   ]
  },
  {
   "cell_type": "code",
   "execution_count": 54,
   "metadata": {},
   "outputs": [
    {
     "data": {
      "text/html": [
       "<div>\n",
       "<style scoped>\n",
       "    .dataframe tbody tr th:only-of-type {\n",
       "        vertical-align: middle;\n",
       "    }\n",
       "\n",
       "    .dataframe tbody tr th {\n",
       "        vertical-align: top;\n",
       "    }\n",
       "\n",
       "    .dataframe thead th {\n",
       "        text-align: right;\n",
       "    }\n",
       "</style>\n",
       "<table border=\"1\" class=\"dataframe\">\n",
       "  <thead>\n",
       "    <tr style=\"text-align: right;\">\n",
       "      <th>Actual</th>\n",
       "      <th>0</th>\n",
       "      <th>1</th>\n",
       "    </tr>\n",
       "    <tr>\n",
       "      <th>Predicted</th>\n",
       "      <th></th>\n",
       "      <th></th>\n",
       "    </tr>\n",
       "  </thead>\n",
       "  <tbody>\n",
       "    <tr>\n",
       "      <th>0</th>\n",
       "      <td>35973</td>\n",
       "      <td>773</td>\n",
       "    </tr>\n",
       "    <tr>\n",
       "      <th>1</th>\n",
       "      <td>2471</td>\n",
       "      <td>63</td>\n",
       "    </tr>\n",
       "  </tbody>\n",
       "</table>\n",
       "</div>"
      ]
     },
     "metadata": {},
     "output_type": "display_data"
    }
   ],
   "source": [
    "# Actual and Predicted a simple cross-tabulation\n",
    "pd.crosstab(pd.Series(Y_Test_Pred, name = 'Predicted'), \n",
    "            pd.Series(Y_test[target], name = 'Actual'))"
   ]
  },
  {
   "cell_type": "code",
   "execution_count": 55,
   "metadata": {},
   "outputs": [
    {
     "data": {
      "text/html": [
       "<style scoped>\n",
       "  .ansiout {\n",
       "    display: block;\n",
       "    unicode-bidi: embed;\n",
       "    white-space: pre-wrap;\n",
       "    word-wrap: break-word;\n",
       "    word-break: break-all;\n",
       "    font-family: \"Source Code Pro\", \"Menlo\", monospace;;\n",
       "    font-size: 13px;\n",
       "    color: #555;\n",
       "    margin-left: 4px;\n",
       "    line-height: 19px;\n",
       "  }\n",
       "</style>\n",
       "<div class=\"ansiout\">Accuracy =  0.923022897189127\n",
       "Precision =  0.07723772858517805\n",
       "Recall =  0.21012437268164957\n",
       "F1 Score =  0.11295525189138468\n",
       "</div>"
      ]
     },
     "metadata": {},
     "output_type": "display_data"
    }
   ],
   "source": [
    "#Model Report \n",
    "generate_model_report(Y_test, Y_Test_Pred)"
   ]
  },
  {
   "cell_type": "code",
   "execution_count": 56,
   "metadata": {},
   "outputs": [
    {
     "data": {
      "image/png": "[encoded data removed]"
     },
     "metadata": {},
     "output_type": "display_data"
    }
   ],
   "source": [
    "display(generate_auc_roc_curve(clf, X_test))"
   ]
  },
  {
   "cell_type": "code",
   "execution_count": 57,
   "metadata": {},
   "outputs": [
    {
     "data": {
      "text/html": [
       "<style scoped>\n",
       "  .ansiout {\n",
       "    display: block;\n",
       "    unicode-bidi: embed;\n",
       "    white-space: pre-wrap;\n",
       "    word-wrap: break-word;\n",
       "    word-break: break-all;\n",
       "    font-family: \"Source Code Pro\", \"Menlo\", monospace;;\n",
       "    font-size: 13px;\n",
       "    color: #555;\n",
       "    margin-left: 4px;\n",
       "    line-height: 19px;\n",
       "  }\n",
       "</style>\n",
       "<div class=\"ansiout\">Out[59]: {0: 767633, 1: 18311}</div>"
      ]
     },
     "metadata": {},
     "output_type": "display_data"
    }
   ],
   "source": [
    "unique, count = np.unique(Y_train, return_counts=True)\n",
    "Y_train_dict_value_count = { k:v for (k,v) in zip(unique, count)}\n",
    "Y_train_dict_value_count"
   ]
  },
  {
   "cell_type": "code",
   "execution_count": 58,
   "metadata": {},
   "outputs": [
    {
     "data": {
      "text/html": [
       "<style scoped>\n",
       "  .ansiout {\n",
       "    display: block;\n",
       "    unicode-bidi: embed;\n",
       "    white-space: pre-wrap;\n",
       "    word-wrap: break-word;\n",
       "    word-break: break-all;\n",
       "    font-family: \"Source Code Pro\", \"Menlo\", monospace;;\n",
       "    font-size: 13px;\n",
       "    color: #555;\n",
       "    margin-left: 4px;\n",
       "    line-height: 19px;\n",
       "  }\n",
       "</style>\n",
       "<div class=\"ansiout\"></div>"
      ]
     },
     "metadata": {},
     "output_type": "display_data"
    }
   ],
   "source": [
    "sm = SMOTE(random_state=12)\n",
    "x_train_res, y_train_res = sm.fit_sample(X_train, Y_train)"
   ]
  },
  {
   "cell_type": "code",
   "execution_count": 59,
   "metadata": {},
   "outputs": [
    {
     "data": {
      "text/html": [
       "<style scoped>\n",
       "  .ansiout {\n",
       "    display: block;\n",
       "    unicode-bidi: embed;\n",
       "    white-space: pre-wrap;\n",
       "    word-wrap: break-word;\n",
       "    word-break: break-all;\n",
       "    font-family: \"Source Code Pro\", \"Menlo\", monospace;;\n",
       "    font-size: 13px;\n",
       "    color: #555;\n",
       "    margin-left: 4px;\n",
       "    line-height: 19px;\n",
       "  }\n",
       "</style>\n",
       "<div class=\"ansiout\">Out[61]: {0: 767633, 1: 767633}</div>"
      ]
     },
     "metadata": {},
     "output_type": "display_data"
    }
   ],
   "source": [
    "unique, count = np.unique(y_train_res, return_counts=True)\n",
    "Y_train_smote_value_count = { k:v for (k,v) in zip(unique, count)}\n",
    "Y_train_smote_value_count"
   ]
  },
  {
   "cell_type": "code",
   "execution_count": 60,
   "metadata": {},
   "outputs": [
    {
     "data": {
      "text/html": [
       "<style scoped>\n",
       "  .ansiout {\n",
       "    display: block;\n",
       "    unicode-bidi: embed;\n",
       "    white-space: pre-wrap;\n",
       "    word-wrap: break-word;\n",
       "    word-break: break-all;\n",
       "    font-family: \"Source Code Pro\", \"Menlo\", monospace;;\n",
       "    font-size: 13px;\n",
       "    color: #555;\n",
       "    margin-left: 4px;\n",
       "    line-height: 19px;\n",
       "  }\n",
       "</style>\n",
       "<div class=\"ansiout\">/local_disk0/pythonVirtualEnvDirs/virtualEnv-f32bc380-646a-4acd-87ff-b578fc748500/lib/python3.7/site-packages/sklearn/utils/validation.py:72: DataConversionWarning: A column-vector y was passed when a 1d array was expected. Please change the shape of y to (n_samples, ), for example using ravel().\n",
       "  return f(**kwargs)\n",
       "/local_disk0/pythonVirtualEnvDirs/virtualEnv-f32bc380-646a-4acd-87ff-b578fc748500/lib/python3.7/site-packages/sklearn/linear_model/_logistic.py:764: ConvergenceWarning: lbfgs failed to converge (status=1):\n",
       "STOP: TOTAL NO. of ITERATIONS REACHED LIMIT.\n",
       "\n",
       "Increase the number of iterations (max_iter) or scale the data as shown in:\n",
       "    https://scikit-learn.org/stable/modules/preprocessing.html\n",
       "Please also refer to the documentation for alternative solver options:\n",
       "    https://scikit-learn.org/stable/modules/linear_model.html#logistic-regression\n",
       "  extra_warning_msg=_LOGISTIC_SOLVER_CONVERGENCE_MSG)\n",
       "</div>"
      ]
     },
     "metadata": {},
     "output_type": "display_data"
    }
   ],
   "source": [
    "clf = LogisticRegression().fit(x_train_res, y_train_res)"
   ]
  },
  {
   "cell_type": "code",
   "execution_count": 61,
   "metadata": {},
   "outputs": [
    {
     "data": {
      "text/html": [
       "<style scoped>\n",
       "  .ansiout {\n",
       "    display: block;\n",
       "    unicode-bidi: embed;\n",
       "    white-space: pre-wrap;\n",
       "    word-wrap: break-word;\n",
       "    word-break: break-all;\n",
       "    font-family: \"Source Code Pro\", \"Menlo\", monospace;;\n",
       "    font-size: 13px;\n",
       "    color: #555;\n",
       "    margin-left: 4px;\n",
       "    line-height: 19px;\n",
       "  }\n",
       "</style>\n",
       "<div class=\"ansiout\"></div>"
      ]
     },
     "metadata": {},
     "output_type": "display_data"
    }
   ],
   "source": [
    "Y_Test_Pred = clf.predict(X_test)"
   ]
  },
  {
   "cell_type": "code",
   "execution_count": 62,
   "metadata": {},
   "outputs": [
    {
     "data": {
      "text/html": [
       "<div>\n",
       "<style scoped>\n",
       "    .dataframe tbody tr th:only-of-type {\n",
       "        vertical-align: middle;\n",
       "    }\n",
       "\n",
       "    .dataframe tbody tr th {\n",
       "        vertical-align: top;\n",
       "    }\n",
       "\n",
       "    .dataframe thead th {\n",
       "        text-align: right;\n",
       "    }\n",
       "</style>\n",
       "<table border=\"1\" class=\"dataframe\">\n",
       "  <thead>\n",
       "    <tr style=\"text-align: right;\">\n",
       "      <th>Actual</th>\n",
       "      <th>0</th>\n",
       "      <th>1</th>\n",
       "    </tr>\n",
       "    <tr>\n",
       "      <th>Predicted</th>\n",
       "      <th></th>\n",
       "      <th></th>\n",
       "    </tr>\n",
       "  </thead>\n",
       "  <tbody>\n",
       "    <tr>\n",
       "      <th>0</th>\n",
       "      <td>24832</td>\n",
       "      <td>542</td>\n",
       "    </tr>\n",
       "    <tr>\n",
       "      <th>1</th>\n",
       "      <td>13612</td>\n",
       "      <td>294</td>\n",
       "    </tr>\n",
       "  </tbody>\n",
       "</table>\n",
       "</div>"
      ]
     },
     "metadata": {},
     "output_type": "display_data"
    }
   ],
   "source": [
    "# Actual and Predicted a simple cross-tabulation Over sampling\n",
    "pd.crosstab(pd.Series(Y_Test_Pred, name = 'Predicted'), \n",
    "            pd.Series(Y_test[target], name = 'Actual'))"
   ]
  },
  {
   "cell_type": "code",
   "execution_count": 63,
   "metadata": {},
   "outputs": [
    {
     "data": {
      "text/html": [
       "<style scoped>\n",
       "  .ansiout {\n",
       "    display: block;\n",
       "    unicode-bidi: embed;\n",
       "    white-space: pre-wrap;\n",
       "    word-wrap: break-word;\n",
       "    word-break: break-all;\n",
       "    font-family: \"Source Code Pro\", \"Menlo\", monospace;;\n",
       "    font-size: 13px;\n",
       "    color: #555;\n",
       "    margin-left: 4px;\n",
       "    line-height: 19px;\n",
       "  }\n",
       "</style>\n",
       "<div class=\"ansiout\">Accuracy =  0.6534630789823246\n",
       "Precision =  0.04530679458724136\n",
       "Recall =  0.6903774819986909\n",
       "F1 Score =  0.08503319089467602\n",
       "</div>"
      ]
     },
     "metadata": {},
     "output_type": "display_data"
    }
   ],
   "source": [
    "generate_model_report(Y_test, Y_Test_Pred)"
   ]
  },
  {
   "cell_type": "code",
   "execution_count": 64,
   "metadata": {},
   "outputs": [
    {
     "data": {
      "image/png": "[encoded data removed]"
     },
     "metadata": {},
     "output_type": "display_data"
    }
   ],
   "source": [
    "#Smote Over smapling AUC ROC\n",
    "display(generate_auc_roc_curve(clf, X_test))"
   ]
  },
  {
   "cell_type": "code",
   "execution_count": 65,
   "metadata": {},
   "outputs": [
    {
     "data": {
      "text/html": [
       "<style scoped>\n",
       "  .ansiout {\n",
       "    display: block;\n",
       "    unicode-bidi: embed;\n",
       "    white-space: pre-wrap;\n",
       "    word-wrap: break-word;\n",
       "    word-break: break-all;\n",
       "    font-family: \"Source Code Pro\", \"Menlo\", monospace;;\n",
       "    font-size: 13px;\n",
       "    color: #555;\n",
       "    margin-left: 4px;\n",
       "    line-height: 19px;\n",
       "  }\n",
       "</style>\n",
       "<div class=\"ansiout\">Out[67]: array([0.005     , 0.03222222, 0.05944444, 0.08666667, 0.11388889,\n",
       "       0.14111111, 0.16833333, 0.19555556, 0.22277778, 0.25      ])</div>"
      ]
     },
     "metadata": {},
     "output_type": "display_data"
    }
   ],
   "source": [
    "# compute and adjust weights\n",
    "weights = np.linspace(0.005, 0.25, 10)\n",
    "weights"
   ]
  },
  {
   "cell_type": "code",
   "execution_count": 66,
   "metadata": {},
   "outputs": [
    {
     "data": {
      "text/html": [
       "<style scoped>\n",
       "  .ansiout {\n",
       "    display: block;\n",
       "    unicode-bidi: embed;\n",
       "    white-space: pre-wrap;\n",
       "    word-wrap: break-word;\n",
       "    word-break: break-all;\n",
       "    font-family: \"Source Code Pro\", \"Menlo\", monospace;;\n",
       "    font-size: 13px;\n",
       "    color: #555;\n",
       "    margin-left: 4px;\n",
       "    line-height: 19px;\n",
       "  }\n",
       "</style>\n",
       "<div class=\"ansiout\">/local_disk0/pythonVirtualEnvDirs/virtualEnv-f32bc380-646a-4acd-87ff-b578fc748500/lib/python3.7/site-packages/sklearn/utils/validation.py:72: DataConversionWarning: A column-vector y was passed when a 1d array was expected. Please change the shape of y to (n_samples, ), for example using ravel().\n",
       "  return f(**kwargs)\n",
       "/local_disk0/pythonVirtualEnvDirs/virtualEnv-f32bc380-646a-4acd-87ff-b578fc748500/lib/python3.7/site-packages/sklearn/linear_model/_logistic.py:764: ConvergenceWarning: lbfgs failed to converge (status=1):\n",
       "STOP: TOTAL NO. of ITERATIONS REACHED LIMIT.\n",
       "\n",
       "Increase the number of iterations (max_iter) or scale the data as shown in:\n",
       "    https://scikit-learn.org/stable/modules/preprocessing.html\n",
       "Please also refer to the documentation for alternative solver options:\n",
       "    https://scikit-learn.org/stable/modules/linear_model.html#logistic-regression\n",
       "  extra_warning_msg=_LOGISTIC_SOLVER_CONVERGENCE_MSG)\n",
       "</div>"
      ]
     },
     "metadata": {},
     "output_type": "display_data"
    }
   ],
   "source": [
    "#Use make_pipeline in imblearn:\n",
    "pipe = make_pipeline(\n",
    "    SMOTE(random_state=42),\n",
    "    LogisticRegression()\n",
    ")\n",
    "\n",
    "pipe.fit(X_train, Y_train)\n",
    "\n",
    "Y_Test_Pred = pipe.predict(X_test)"
   ]
  },
  {
   "cell_type": "code",
   "execution_count": 67,
   "metadata": {},
   "outputs": [
    {
     "data": {
      "text/html": [
       "<div>\n",
       "<style scoped>\n",
       "    .dataframe tbody tr th:only-of-type {\n",
       "        vertical-align: middle;\n",
       "    }\n",
       "\n",
       "    .dataframe tbody tr th {\n",
       "        vertical-align: top;\n",
       "    }\n",
       "\n",
       "    .dataframe thead th {\n",
       "        text-align: right;\n",
       "    }\n",
       "</style>\n",
       "<table border=\"1\" class=\"dataframe\">\n",
       "  <thead>\n",
       "    <tr style=\"text-align: right;\">\n",
       "      <th>Actual</th>\n",
       "      <th>0</th>\n",
       "      <th>1</th>\n",
       "    </tr>\n",
       "    <tr>\n",
       "      <th>Predicted</th>\n",
       "      <th></th>\n",
       "      <th></th>\n",
       "    </tr>\n",
       "  </thead>\n",
       "  <tbody>\n",
       "    <tr>\n",
       "      <th>0</th>\n",
       "      <td>24413</td>\n",
       "      <td>534</td>\n",
       "    </tr>\n",
       "    <tr>\n",
       "      <th>1</th>\n",
       "      <td>14031</td>\n",
       "      <td>302</td>\n",
       "    </tr>\n",
       "  </tbody>\n",
       "</table>\n",
       "</div>"
      ]
     },
     "metadata": {},
     "output_type": "display_data"
    }
   ],
   "source": [
    "# Actual and Predicted a simple cross-tabulation smote\n",
    "pd.crosstab(pd.Series(Y_Test_Pred, name = 'Predicted'), \n",
    "            pd.Series(Y_test[target], name = 'Actual'))"
   ]
  },
  {
   "cell_type": "code",
   "execution_count": 68,
   "metadata": {},
   "outputs": [
    {
     "data": {
      "text/html": [
       "<style scoped>\n",
       "  .ansiout {\n",
       "    display: block;\n",
       "    unicode-bidi: embed;\n",
       "    white-space: pre-wrap;\n",
       "    word-wrap: break-word;\n",
       "    word-break: break-all;\n",
       "    font-family: \"Source Code Pro\", \"Menlo\", monospace;;\n",
       "    font-size: 13px;\n",
       "    color: #555;\n",
       "    margin-left: 4px;\n",
       "    line-height: 19px;\n",
       "  }\n",
       "</style>\n",
       "<div class=\"ansiout\">Accuracy =  0.6432791991327671\n",
       "Precision =  0.04467860320284697\n",
       "Recall =  0.7012873663539166\n",
       "F1 Score =  0.08400527973444502\n",
       "</div>"
      ]
     },
     "metadata": {},
     "output_type": "display_data"
    }
   ],
   "source": [
    "generate_model_report(Y_test, Y_Test_Pred)"
   ]
  },
  {
   "cell_type": "code",
   "execution_count": 69,
   "metadata": {},
   "outputs": [
    {
     "data": {
      "text/html": [
       "<style scoped>\n",
       "  .ansiout {\n",
       "    display: block;\n",
       "    unicode-bidi: embed;\n",
       "    white-space: pre-wrap;\n",
       "    word-wrap: break-word;\n",
       "    word-break: break-all;\n",
       "    font-family: \"Source Code Pro\", \"Menlo\", monospace;;\n",
       "    font-size: 13px;\n",
       "    color: #555;\n",
       "    margin-left: 4px;\n",
       "    line-height: 19px;\n",
       "  }\n",
       "</style>\n",
       "<div class=\"ansiout\">22894\n",
       "</div>"
      ]
     },
     "metadata": {},
     "output_type": "display_data"
    }
   ],
   "source": [
    "minority_class_len = len(df[df[target] == 1])\n",
    "print(minority_class_len)"
   ]
  },
  {
   "cell_type": "code",
   "execution_count": 70,
   "metadata": {},
   "outputs": [
    {
     "data": {
      "text/html": [
       "<style scoped>\n",
       "  .ansiout {\n",
       "    display: block;\n",
       "    unicode-bidi: embed;\n",
       "    white-space: pre-wrap;\n",
       "    word-wrap: break-word;\n",
       "    word-break: break-all;\n",
       "    font-family: \"Source Code Pro\", \"Menlo\", monospace;;\n",
       "    font-size: 13px;\n",
       "    color: #555;\n",
       "    margin-left: 4px;\n",
       "    line-height: 19px;\n",
       "  }\n",
       "</style>\n",
       "<div class=\"ansiout\">Int64Index([     0,      1,      2,      3,      4,      5,      6,      7,\n",
       "                 8,      9,\n",
       "            ...\n",
       "            982421, 982422, 982423, 982424, 982425, 982426, 982427, 982428,\n",
       "            982429, 982430],\n",
       "           dtype=&#39;int64&#39;, length=959537)\n",
       "</div>"
      ]
     },
     "metadata": {},
     "output_type": "display_data"
    }
   ],
   "source": [
    "majority_class_indices = df[df[target] == 0].index\n",
    "print(majority_class_indices)"
   ]
  },
  {
   "cell_type": "code",
   "execution_count": 71,
   "metadata": {},
   "outputs": [
    {
     "data": {
      "text/html": [
       "<style scoped>\n",
       "  .ansiout {\n",
       "    display: block;\n",
       "    unicode-bidi: embed;\n",
       "    white-space: pre-wrap;\n",
       "    word-wrap: break-word;\n",
       "    word-break: break-all;\n",
       "    font-family: \"Source Code Pro\", \"Menlo\", monospace;;\n",
       "    font-size: 13px;\n",
       "    color: #555;\n",
       "    margin-left: 4px;\n",
       "    line-height: 19px;\n",
       "  }\n",
       "</style>\n",
       "<div class=\"ansiout\">22894\n",
       "</div>"
      ]
     },
     "metadata": {},
     "output_type": "display_data"
    }
   ],
   "source": [
    "random_majority_indices = np.random.choice(majority_class_indices,\n",
    "                                           minority_class_len, \n",
    "                                           replace=False)\n",
    "print(len(random_majority_indices))"
   ]
  },
  {
   "cell_type": "code",
   "execution_count": 72,
   "metadata": {},
   "outputs": [
    {
     "data": {
      "text/html": [
       "<style scoped>\n",
       "  .ansiout {\n",
       "    display: block;\n",
       "    unicode-bidi: embed;\n",
       "    white-space: pre-wrap;\n",
       "    word-wrap: break-word;\n",
       "    word-break: break-all;\n",
       "    font-family: \"Source Code Pro\", \"Menlo\", monospace;;\n",
       "    font-size: 13px;\n",
       "    color: #555;\n",
       "    margin-left: 4px;\n",
       "    line-height: 19px;\n",
       "  }\n",
       "</style>\n",
       "<div class=\"ansiout\">Int64Index([   173,    248,    249,    250,    725,    726,    786,    795,\n",
       "               796,    797,\n",
       "            ...\n",
       "            982255, 982256, 982257, 982258, 982259, 982260, 982261, 982262,\n",
       "            982263, 982340],\n",
       "           dtype=&#39;int64&#39;, length=22894)\n",
       "</div>"
      ]
     },
     "metadata": {},
     "output_type": "display_data"
    }
   ],
   "source": [
    "#Recall(or Sensitivity) measures the accuracy over the minority (positive) class,\n",
    "minority_class_indices = df[df[target] == 1].index\n",
    "print(minority_class_indices)"
   ]
  },
  {
   "cell_type": "code",
   "execution_count": 73,
   "metadata": {},
   "outputs": [
    {
     "data": {
      "text/html": [
       "<style scoped>\n",
       "  .ansiout {\n",
       "    display: block;\n",
       "    unicode-bidi: embed;\n",
       "    white-space: pre-wrap;\n",
       "    word-wrap: break-word;\n",
       "    word-break: break-all;\n",
       "    font-family: \"Source Code Pro\", \"Menlo\", monospace;;\n",
       "    font-size: 13px;\n",
       "    color: #555;\n",
       "    margin-left: 4px;\n",
       "    line-height: 19px;\n",
       "  }\n",
       "</style>\n",
       "<div class=\"ansiout\"></div>"
      ]
     },
     "metadata": {},
     "output_type": "display_data"
    }
   ],
   "source": [
    "under_sample_indices = np.concatenate([minority_class_indices,random_majority_indices])"
   ]
  },
  {
   "cell_type": "code",
   "execution_count": 74,
   "metadata": {},
   "outputs": [
    {
     "data": {
      "text/html": [
       "<style scoped>\n",
       "  .ansiout {\n",
       "    display: block;\n",
       "    unicode-bidi: embed;\n",
       "    white-space: pre-wrap;\n",
       "    word-wrap: break-word;\n",
       "    word-break: break-all;\n",
       "    font-family: \"Source Code Pro\", \"Menlo\", monospace;;\n",
       "    font-size: 13px;\n",
       "    color: #555;\n",
       "    margin-left: 4px;\n",
       "    line-height: 19px;\n",
       "  }\n",
       "</style>\n",
       "<div class=\"ansiout\"></div>"
      ]
     },
     "metadata": {},
     "output_type": "display_data"
    }
   ],
   "source": [
    "under_sample = df.loc[under_sample_indices]"
   ]
  },
  {
   "cell_type": "code",
   "execution_count": 75,
   "metadata": {},
   "outputs": [
    {
     "data": {
      "image/png": "[encoded data removed]"
     },
     "metadata": {},
     "output_type": "display_data"
    }
   ],
   "source": [
    "\n",
    "display(sns.countplot(x=target, data=under_sample).figure)"
   ]
  },
  {
   "cell_type": "code",
   "execution_count": 76,
   "metadata": {},
   "outputs": [
    {
     "data": {
      "text/html": [
       "<style scoped>\n",
       "  .ansiout {\n",
       "    display: block;\n",
       "    unicode-bidi: embed;\n",
       "    white-space: pre-wrap;\n",
       "    word-wrap: break-word;\n",
       "    word-break: break-all;\n",
       "    font-family: \"Source Code Pro\", \"Menlo\", monospace;;\n",
       "    font-size: 13px;\n",
       "    color: #555;\n",
       "    margin-left: 4px;\n",
       "    line-height: 19px;\n",
       "  }\n",
       "</style>\n",
       "<div class=\"ansiout\">/local_disk0/pythonVirtualEnvDirs/virtualEnv-f32bc380-646a-4acd-87ff-b578fc748500/lib/python3.7/site-packages/sklearn/utils/validation.py:72: DataConversionWarning: A column-vector y was passed when a 1d array was expected. Please change the shape of y to (n_samples, ), for example using ravel().\n",
       "  return f(**kwargs)\n",
       "/local_disk0/pythonVirtualEnvDirs/virtualEnv-f32bc380-646a-4acd-87ff-b578fc748500/lib/python3.7/site-packages/sklearn/linear_model/_logistic.py:764: ConvergenceWarning: lbfgs failed to converge (status=1):\n",
       "STOP: TOTAL NO. of ITERATIONS REACHED LIMIT.\n",
       "\n",
       "Increase the number of iterations (max_iter) or scale the data as shown in:\n",
       "    https://scikit-learn.org/stable/modules/preprocessing.html\n",
       "Please also refer to the documentation for alternative solver options:\n",
       "    https://scikit-learn.org/stable/modules/linear_model.html#logistic-regression\n",
       "  extra_warning_msg=_LOGISTIC_SOLVER_CONVERGENCE_MSG)\n",
       "</div>"
      ]
     },
     "metadata": {},
     "output_type": "display_data"
    }
   ],
   "source": [
    "X = under_sample.loc[:, df.columns!=target]\n",
    "Y = under_sample.loc[:, df.columns==target]\n",
    "X_train, X_test, Y_train, Y_test = train_test_split(X, Y, test_size=0.33, random_state=42)\n",
    "clf = LogisticRegression().fit(X_train, Y_train)\n",
    "Y_Test_Pred = clf.predict(X_test)"
   ]
  },
  {
   "cell_type": "code",
   "execution_count": 77,
   "metadata": {},
   "outputs": [
    {
     "data": {
      "text/html": [
       "<style scoped>\n",
       "  .ansiout {\n",
       "    display: block;\n",
       "    unicode-bidi: embed;\n",
       "    white-space: pre-wrap;\n",
       "    word-wrap: break-word;\n",
       "    word-break: break-all;\n",
       "    font-family: \"Source Code Pro\", \"Menlo\", monospace;;\n",
       "    font-size: 13px;\n",
       "    color: #555;\n",
       "    margin-left: 4px;\n",
       "    line-height: 19px;\n",
       "  }\n",
       "</style>\n",
       "<div class=\"ansiout\">Accuracy =  0.6791079346171663\n",
       "Precision =  0.6861659011078087\n",
       "Recall =  0.6678500986193294\n",
       "F1 Score =  0.676884120743653\n",
       "</div>"
      ]
     },
     "metadata": {},
     "output_type": "display_data"
    }
   ],
   "source": [
    "generate_model_report(Y_test, Y_Test_Pred)"
   ]
  },
  {
   "cell_type": "code",
   "execution_count": 78,
   "metadata": {},
   "outputs": [
    {
     "data": {
      "image/png": "[encoded data removed]"
     },
     "metadata": {},
     "output_type": "display_data"
    }
   ],
   "source": [
    "display(generate_auc_roc_curve(clf, X_test))"
   ]
  },
  {
   "cell_type": "markdown",
   "metadata": {},
   "source": [
    "# MULTICLASS DATA BALANCING"
   ]
  },
  {
   "cell_type": "code",
   "execution_count": null,
   "metadata": {},
   "outputs": [],
   "source": [
    "#Spliting dataset to training and test set\n",
    "X_train, X_test, y_train, y_test = train_test_split(X, y, test_size = 0.2,random_state=123)"
   ]
  },
  {
   "cell_type": "code",
   "execution_count": null,
   "metadata": {},
   "outputs": [],
   "source": [
    "#Encoding wine categories. We have three categories and this will change the categories to 0,1, and 2.\n",
    "labelencoder_y =LabelEncoder()\n",
    "y= labelencoder_y.fit_transform(y)"
   ]
  },
  {
   "cell_type": "code",
   "execution_count": null,
   "metadata": {},
   "outputs": [],
   "source": [
    "# summarize distribution\n",
    "counter = Counter(y)\n",
    "for k,v in counter.items():\n",
    "\tper = v / len(y) * 100\n",
    "\tprint('Class=%d, n=%d (%.3f%%)' % (k, v, per))\n",
    "# plot the distribution\n",
    "pyplot.bar(counter.keys(), counter.values())\n",
    "pyplot.show()"
   ]
  },
  {
   "cell_type": "code",
   "execution_count": null,
   "metadata": {},
   "outputs": [],
   "source": [
    "#Scaling the data\n",
    "sc_X = StandardScaler()\n",
    "X_train = sc_X.fit_transform(X_train)\n",
    "X_test = sc_X.transform(X_test)\n",
    "print('X_train Shape:',X_train.shape ,'\\nX_test Shape:',X_test.shape,'\\ny_train Shape:',y_train.shape ,'\\ny_test Shape:',y_test.shape )"
   ]
  },
  {
   "cell_type": "code",
   "execution_count": null,
   "metadata": {},
   "outputs": [],
   "source": [
    "from imblearn.datasets import make_imbalance\n",
    "\n",
    "from imblearn.over_sampling import RandomOverSampler\n",
    "from imblearn.under_sampling import RandomUnderSampler\n",
    "from imblearn.under_sampling import TomekLinks\n",
    "\n",
    "print(__doc__)\n",
    "\n",
    "\n",
    "def plot_pie(y):\n",
    "    target_stats = Counter(y)\n",
    "    labels = list(target_stats.keys())\n",
    "    sizes = list(target_stats.values())\n",
    "    explode = tuple([0.1] * len(target_stats))\n",
    "\n",
    "    def make_autopct(values):\n",
    "        def my_autopct(pct):\n",
    "            total = sum(values)\n",
    "            val = int(round(pct * total / 100.0))\n",
    "            return '{p:.2f}%  ({v:d})'.format(p=pct, v=val)\n",
    "        return my_autopct\n",
    "\n",
    "    fig, ax = plt.subplots()\n",
    "    ax.pie(sizes, explode=explode, labels=labels, shadow=True,\n",
    "           autopct=make_autopct(sizes))\n",
    "    ax.axis('equal')"
   ]
  },
  {
   "cell_type": "code",
   "execution_count": null,
   "metadata": {},
   "outputs": [],
   "source": [
    "sampling_strategy = 'not minority'\n",
    "\n",
    "rus = RandomUnderSampler(sampling_strategy=sampling_strategy)\n",
    "X_res, y_res = rus.fit_resample(X, y)\n",
    "print('Information of the diff data set after making it '\n",
    "      'balanced by under-sampling: \\n sampling_strategy={} \\n y: {}'\n",
    "      .format(sampling_strategy, Counter(y_res)))\n",
    "plot_pie(y_res)\n",
    "\n",
    "sampling_strategy = 'not majority'\n",
    "\n",
    "ros = RandomOverSampler(sampling_strategy=sampling_strategy)\n",
    "X_res, y_res = ros.fit_resample(X, y)\n",
    "print('Information of the Diff data set after making it '\n",
    "      'balanced by over-sampling: \\n sampling_strategy={} \\n y: {}'\n",
    "      .format(sampling_strategy, Counter(y_res)))\n",
    "plot_pie(y_res)"
   ]
  }
 ],
 "metadata": {
  "kernelspec": {
   "display_name": "Python 3",
   "language": "python",
   "name": "python3"
  },
  "language_info": {
   "codemirror_mode": {
    "name": "ipython",
    "version": 3
   },
   "file_extension": ".py",
   "mimetype": "text/x-python",
   "name": "python",
   "nbconvert_exporter": "python",
   "pygments_lexer": "ipython3",
   "version": "3.8.3"
  },
  "name": "Data Balancing",
  "notebookId": 150546
 },
 "nbformat": 4,
 "nbformat_minor": 1
}
